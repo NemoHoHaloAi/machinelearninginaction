{
 "cells": [
  {
   "cell_type": "markdown",
   "metadata": {},
   "source": [
    "# 树回归\n",
    "\n",
    "线性回归在解决非线性问题时难以起到较好的预测效果（局部加权），局部加权受限于单个k的设置无法应对规模不一的非线性情况（比如虽然是类似折线，但是折线的各段之间不一样长，甚至差异很大，此时对于k的要求就比较高），而所谓非线性只是整体不是线性，如果划分开，那么可能各个数据子集都各自满足线性，所谓**划分**其实就等价于树结构的分裂；\n",
    "\n",
    "本章流程：\n",
    "* 分类回归数：CART；\n",
    "* CART构建回归树；\n",
    "* 树的剪枝 - 防止过拟合；\n",
    "* 构建模型树；"
   ]
  },
  {
   "cell_type": "code",
   "execution_count": 1,
   "metadata": {},
   "outputs": [],
   "source": [
    "from numpy import *\n",
    "\n",
    "import matplotlib.pyplot as plt\n",
    "\n",
    "%matplotlib inline\n",
    "\n",
    "dataPath = '../../../git_mlaction/machinelearninginaction/Ch09/'"
   ]
  },
  {
   "cell_type": "markdown",
   "metadata": {},
   "source": [
    "## 复杂数据的局部建模\n",
    "\n",
    "树回归：\n",
    "* 优点：可以对复杂的、非线性的数据建模；\n",
    "* 缺点：结果不易理解；\n",
    "* 适用数据类型：数值型和标称型数据；\n",
    "\n",
    "构建树的算法：\n",
    "* ID3：决策树使用的就是ID3，该算法针对特征的所有取值进行划分，比如一个标称型特征有4个取值，那么就会分为4个子树，带来的问题，一个是对数据划分过于迅速、只考虑当前、无法直接处理连续型数据；\n",
    "* 二元划分法：CART使用该方法，对于标称型特征，等于某个值分到左子树，不等于分到右子树，对于连续型特征，大于某个值分到左子树，否则分到右子树，因此二元划分法既不会划分太快，又能同时处理标称型和数值型；"
   ]
  },
  {
   "cell_type": "markdown",
   "metadata": {},
   "source": [
    "## 连续和离散型特征的树的构建\n",
    "\n",
    "用字典来描述树的结构：\n",
    "* 待切分的特征；\n",
    "* 待分的特征值；\n",
    "* 左子树，叶子节点就是单个值，否则也是一棵树；\n",
    "* 右子树，同上；"
   ]
  },
  {
   "cell_type": "code",
   "execution_count": 2,
   "metadata": {},
   "outputs": [],
   "source": [
    "# 加载数据\n",
    "def loadDataSet(fn):\n",
    "    dataArr = []\n",
    "    with open(fn) as f:\n",
    "        for line in f.readlines():\n",
    "            features = line.strip().split('\\t')\n",
    "            dataArr.append(map(float, features))\n",
    "    return dataArr"
   ]
  },
  {
   "cell_type": "code",
   "execution_count": 3,
   "metadata": {},
   "outputs": [],
   "source": [
    "# 根据特征、特征值，对数据集进行切分，特征是连续型\n",
    "# np.nonzero函数是numpy中用于得到数组array中非零元素的位置（数组索引）的函数。\n",
    "def binSplitDataSet(dataSet, feature, featureValue):\n",
    "    mat0 = dataSet[nonzero(dataSet[:,feature] > featureValue)[0],:]#[0]\n",
    "    mat1 = dataSet[nonzero(dataSet[:,feature] <= featureValue)[0],:]#[0]\n",
    "    return mat0, mat1"
   ]
  },
  {
   "cell_type": "code",
   "execution_count": 4,
   "metadata": {},
   "outputs": [
    {
     "name": "stdout",
     "output_type": "stream",
     "text": [
      "[[ 1.  0.  0.  0.]\n",
      " [ 0.  1.  0.  0.]\n",
      " [ 0.  0.  1.  0.]\n",
      " [ 0.  0.  0.  1.]]\n",
      "\n",
      "\n",
      "[[ 0.  1.  0.  0.]]\n",
      "\n",
      "\n",
      "[[ 1.  0.  0.  0.]\n",
      " [ 0.  0.  1.  0.]\n",
      " [ 0.  0.  0.  1.]]\n"
     ]
    }
   ],
   "source": [
    "testMat = mat(eye(4))\n",
    "print testMat\n",
    "print '\\n'\n",
    "testMat0, testMat1 = binSplitDataSet(testMat, 1, 0.5)\n",
    "print testMat0\n",
    "print '\\n'\n",
    "print testMat1"
   ]
  },
  {
   "cell_type": "code",
   "execution_count": 128,
   "metadata": {},
   "outputs": [],
   "source": [
    "# 树的构建函数，递归的方式，重点是选择合适的特征和特征值\n",
    "def createTree(dataSet, leafType=None, errType=None, ops=(1,4)):\n",
    "    '''\n",
    "    leafType:建立叶节点的函数\n",
    "    errType:误差计算函数\n",
    "    ops:所需其他参数的元组\n",
    "    '''\n",
    "    feature, value = chooseBestSplit(dataSet, leafType, errType, ops) # 选择当前最适合划分的特征和特征值\n",
    "    if feature == None:\n",
    "        return value\n",
    "    retTree = {}\n",
    "    retTree['spInd'] = feature\n",
    "    retTree['spVal'] = value\n",
    "    lSet, rSet = binSplitDataSet(dataSet, feature, value)\n",
    "    retTree['left'] = createTree(lSet, leafType, errType, ops)\n",
    "    retTree['right'] = createTree(rSet, leafType, errType, ops)\n",
    "    return retTree"
   ]
  },
  {
   "cell_type": "markdown",
   "metadata": {},
   "source": [
    "## 将CART算法用于回归\n",
    "\n",
    "回归问题的树结构需要计算数据的混乱度（即信息熵），而连续型数据的混乱度可以用总方差来描述（即每个值与均值的差的平方再开方，最后求和）；"
   ]
  },
  {
   "cell_type": "markdown",
   "metadata": {},
   "source": [
    "### 构建树"
   ]
  },
  {
   "cell_type": "code",
   "execution_count": 114,
   "metadata": {},
   "outputs": [],
   "source": [
    "# 对应上面的leafType参数\n",
    "def regLeaf(dataSet):\n",
    "    return mean(dataSet[:,-1])"
   ]
  },
  {
   "cell_type": "code",
   "execution_count": 115,
   "metadata": {},
   "outputs": [],
   "source": [
    "# 对应上面的errType参数\n",
    "def regErr(dataSet):\n",
    "    return var(dataSet[:,-1]) * shape(dataSet)[0] # 均方差乘以数据个数即为总方差"
   ]
  },
  {
   "cell_type": "code",
   "execution_count": 129,
   "metadata": {},
   "outputs": [],
   "source": [
    "# 实现选择切分的特征以及特征值的函数\n",
    "# 遍历所有的特征及其取值，找到使得总方差最小的切分阈值，并返回\n",
    "def chooseBestSplit(dataSet, leafType, errType, ops):\n",
    "    '''\n",
    "    ops是限定条件，不满足条件的话意味着此时要创建的是叶子节点，因此返回leafType的结果\n",
    "    '''\n",
    "    tolS, tolN = ops[0], ops[1]\n",
    "    if len(set(dataSet[:,-1].T.tolist()[0])) == 1: # 如果所有值都相等\n",
    "        return None, leafType(dataSet)\n",
    "    \n",
    "    bestFeature = None\n",
    "    bestValue = None\n",
    "    S = errType(dataSet) # 当前数据集的误差\n",
    "    minErr = inf\n",
    "    m,n = shape(dataSet)\n",
    "    \n",
    "    for i in range(n-1): # 遍历每个特征\n",
    "        for v in set(dataSet[:,i].T.tolist()[0]):\n",
    "            lSet, rSet = binSplitDataSet(dataSet, i, v)\n",
    "            lErr = errType(lSet) if len(lSet) > 0 else 0\n",
    "            rErr = errType(rSet) if len(rSet) > 0 else 0\n",
    "            err = (lErr+rErr)/2. # 注意此处上方的处理，可能划分后一侧是没有数据的，此时直接求误差的话在OLS中会因为矩阵没有逆而出错\n",
    "            if err < minErr:\n",
    "                minErr = err\n",
    "                bestFeature = i\n",
    "                bestValue = v\n",
    "                \n",
    "    if (S - minErr) < tolS: # 即如果误差本身小于tolS时，就不进行切分了\n",
    "        return None, leafType(dataSet)\n",
    "    \n",
    "    mat0, mat1 = binSplitDataSet(dataSet, bestFeature, bestValue)\n",
    "    if (shape(mat0)[0] < tolN) or (shape(mat1)[0] < tolN): # 如果切分后的数据集中有一个数据集中数据个数小于tolN，也不划分（避免过拟合）\n",
    "        return None, leafType(dataSet)\n",
    "    \n",
    "    return bestFeature, bestValue"
   ]
  },
  {
   "cell_type": "markdown",
   "metadata": {},
   "source": [
    "### 运行上述代码"
   ]
  },
  {
   "cell_type": "code",
   "execution_count": 9,
   "metadata": {},
   "outputs": [
    {
     "data": {
      "text/plain": [
       "<matplotlib.collections.PathCollection at 0x7fbdd0e04910>"
      ]
     },
     "execution_count": 9,
     "metadata": {},
     "output_type": "execute_result"
    },
    {
     "data": {
      "image/png": "[encoded data removed]",
      "text/plain": [
       "<matplotlib.figure.Figure at 0x7fbdd442d910>"
      ]
     },
     "metadata": {
      "needs_background": "light"
     },
     "output_type": "display_data"
    }
   ],
   "source": [
    "dataArr = loadDataSet(dataPath+'ex00.txt')\n",
    "dataMat = mat(dataArr)\n",
    "plt.scatter(dataMat[:,0].T.tolist()[0], dataMat[:,1].T.tolist()[0])"
   ]
  },
  {
   "cell_type": "code",
   "execution_count": 10,
   "metadata": {},
   "outputs": [
    {
     "name": "stdout",
     "output_type": "stream",
     "text": [
      "{'spInd': 0, 'spVal': 0.48813, 'right': {'spInd': 0, 'spVal': 0.343479, 'right': {'spInd': 0, 'spVal': 0.325412, 'right': {'spInd': 0, 'spVal': 0.048014, 'right': 0.097105625000000001, 'left': {'spInd': 0, 'spVal': 0.081931, 'right': -0.23431800000000003, 'left': -0.023395363636363631}}, 'left': 0.15461575}, 'left': -0.12321036363636363}, 'left': {'spInd': 0, 'spVal': 0.620599, 'right': 1.1081870645161291, 'left': 0.98524030588235267}}\n"
     ]
    },
    {
     "name": "stderr",
     "output_type": "stream",
     "text": [
      "/home/kael/Software/anaconda2/envs/python2/lib/python2.7/site-packages/numpy/matrixlib/defmatrix.py:617: RuntimeWarning: Degrees of freedom <= 0 for slice\n",
      "  return N.ndarray.var(self, axis, dtype, out, ddof, keepdims=True)._collapse(axis)\n",
      "/home/kael/Software/anaconda2/envs/python2/lib/python2.7/site-packages/numpy/core/_methods.py:105: RuntimeWarning: invalid value encountered in true_divide\n",
      "  arrmean, rcount, out=arrmean, casting='unsafe', subok=False)\n",
      "/home/kael/Software/anaconda2/envs/python2/lib/python2.7/site-packages/numpy/core/_methods.py:125: RuntimeWarning: invalid value encountered in true_divide\n",
      "  ret, rcount, out=ret, casting='unsafe', subok=False)\n"
     ]
    }
   ],
   "source": [
    "regTrees = createTree(dataMat, leafType=regLeaf, errType=regErr)\n",
    "print regTrees"
   ]
  },
  {
   "cell_type": "code",
   "execution_count": 11,
   "metadata": {},
   "outputs": [
    {
     "data": {
      "image/png": "[encoded data removed]",
      "text/plain": [
       "<matplotlib.figure.Figure at 0x7fbdd0d2e8d0>"
      ]
     },
     "metadata": {
      "needs_background": "light"
     },
     "output_type": "display_data"
    }
   ],
   "source": [
    "plt.scatter(dataMat[:,0].T.tolist()[0], dataMat[:,1].T.tolist()[0])\n",
    "def drawLine(trees, bottom=-1, top=2):\n",
    "    plt.plot([trees['spVal'],trees['spVal']], [bottom, top])\n",
    "    if isinstance(trees['left'],dict):\n",
    "        drawLine(trees['left'], bottom, top)\n",
    "    if isinstance(trees['right'],dict):\n",
    "        drawLine(trees['right'], bottom, top)\n",
    "    \n",
    "drawLine(regTrees)"
   ]
  },
  {
   "cell_type": "code",
   "execution_count": 12,
   "metadata": {},
   "outputs": [
    {
     "data": {
      "text/plain": [
       "<matplotlib.collections.PathCollection at 0x7fbdd0bfdc90>"
      ]
     },
     "execution_count": 12,
     "metadata": {},
     "output_type": "execute_result"
    },
    {
     "data": {
      "image/png": "[encoded data removed]",
      "text/plain": [
       "<matplotlib.figure.Figure at 0x7fbdd0dc0850>"
      ]
     },
     "metadata": {
      "needs_background": "light"
     },
     "output_type": "display_data"
    }
   ],
   "source": [
    "dataArr2 = loadDataSet(dataPath+'ex0.txt')\n",
    "dataMat2 = mat(dataArr2)\n",
    "plt.scatter(dataMat2[:,1].T.tolist()[0], dataMat2[:,2].T.tolist()[0])"
   ]
  },
  {
   "cell_type": "code",
   "execution_count": 13,
   "metadata": {},
   "outputs": [
    {
     "name": "stdout",
     "output_type": "stream",
     "text": [
      "{'spInd': 1, 'spVal': 0.39435, 'right': {'spInd': 1, 'spVal': 0.197834, 'right': -0.023838155555555553, 'left': 1.0289583666666666}, 'left': {'spInd': 1, 'spVal': 0.582002, 'right': 1.980035071428571, 'left': {'spInd': 1, 'spVal': 0.797583, 'right': 2.9836209534883724, 'left': 3.9871631999999999}}}\n"
     ]
    }
   ],
   "source": [
    "regTrees2 = createTree(dataMat2, leafType=regLeaf, errType=regErr)\n",
    "print regTrees2"
   ]
  },
  {
   "cell_type": "code",
   "execution_count": 14,
   "metadata": {},
   "outputs": [
    {
     "data": {
      "image/png": "[encoded data removed]",
      "text/plain": [
       "<matplotlib.figure.Figure at 0x7fbdd0c97810>"
      ]
     },
     "metadata": {
      "needs_background": "light"
     },
     "output_type": "display_data"
    }
   ],
   "source": [
    "plt.scatter(dataMat2[:,1].T.tolist()[0], dataMat2[:,2].T.tolist()[0])\n",
    "drawLine(regTrees2, -1, 5)"
   ]
  },
  {
   "cell_type": "markdown",
   "metadata": {},
   "source": [
    "可以看出，在第二个明显的非线性、多模式的复杂数据下，使用树回归得到了一个非常不过的划分结果，通过修改ops参数可以控制划分数据集的敏感程度，比如针对后面这个数据集，如果ops的第一个参数，即tolS设置的比较大时，可能就不会出现4根线，而是一根或者两根，因为这时，算法允许更大的总方差，也就是允许数据更加的混乱；"
   ]
  },
  {
   "cell_type": "markdown",
   "metadata": {},
   "source": [
    "## 树剪枝\n",
    "\n",
    "如果树上的节点过多，则会导致模型过拟合，一种解决过拟合的方法是降低模型的复杂度，对于树模型来说，就是剪枝，分两种：\n",
    "* 预剪枝：chooseBestSplit函数中的终止条件，即ops参数的设置，就是一种预剪枝，即在训练过程中实施的剪枝；\n",
    "* 后剪枝：需要利用训练、测试数据进行的一种剪枝方式；"
   ]
  },
  {
   "cell_type": "markdown",
   "metadata": {},
   "source": [
    "### 预剪枝\n",
    "\n",
    "预剪枝的问题在于依赖于参数的指定，即ops，针对不同的数据集，设置一个合适的ops很重要，否则可能得到完全不同的结果，比如第一个数据集，由于y轴的值都比较小，因此总方差阈值设置为1较为合适，想象一下，如果此时y轴的分布很大，例如从1到1000，可能数据的模式没变，但是如果总方差依然设置为1，那么会创建N个节点，甚至是每个数据点对应一个叶子，这就严重的过拟合了，因此预剪枝技术对参数很敏感；\n",
    "\n",
    "一点思考：如果将tolS定义为一个小数，用于表示某个特征的最小值和最大值之间范围的百分比位置，是否相对没有那么敏感呢，比如特征值从0到100都有，那么我们设置tolS为0.2，等于原来的(100-0)\\*0.2=20，当然了，还要考虑这个值计算的是总方差，而不是平均，但是小数是一个可以考虑优化参数过于敏感的方向；"
   ]
  },
  {
   "cell_type": "markdown",
   "metadata": {},
   "source": [
    "### 后剪枝\n",
    "\n",
    "基本思想：首先将数据分为训练集和测试集，使用训练集训练时，尽可能的使得树足够大、足够复杂，遍历整棵树的叶子节点，判断，如果一颗子树的所有叶子节点（CART，都是两个节点）合并能够降低测试集上的误差，则合并，以此类推，直到无法降低误差为止，这是一种先穷举所有可能，然后从最远处慢慢往回走，同时进行测试验证的方案；\n",
    "\n",
    "两个问题：\n",
    "* 训练时间会不会太长，整个训练时间包括：初始训练时间（由于没有预剪枝，因此本身时间就会比较多）、后期剪枝时间；\n",
    "* 叶子节点合并的顺序、方式是否会影响剪枝结果（即得到的只是局部最优，没有考虑全局）；"
   ]
  },
  {
   "cell_type": "code",
   "execution_count": 15,
   "metadata": {},
   "outputs": [],
   "source": [
    "# 函数判断是否是树\n",
    "def isTree(obj):\n",
    "    return isinstance(obj, dict)"
   ]
  },
  {
   "cell_type": "code",
   "execution_count": 17,
   "metadata": {},
   "outputs": [],
   "source": [
    "# 函数获取每个节点往下所有叶子节点的平均值，递归\n",
    "# 对树进行塌陷处理，即返回树的平均值\n",
    "def getMean(tree):\n",
    "    if isTree(tree['left']):\n",
    "        tree['left'] = getMean(tree['left'])\n",
    "    if isTree(tree['right']):\n",
    "        tree['right'] = getMean(tree['right'])\n",
    "    return (tree['left']+tree['right'])/2."
   ]
  },
  {
   "cell_type": "code",
   "execution_count": 18,
   "metadata": {},
   "outputs": [],
   "source": [
    "# 定义函数使用训练数据对树进行剪枝\n",
    "def prune(tree, testData):\n",
    "    if shape(testData)[0] == 0:\n",
    "        return getMean(tree) # 没有测试数据，直接塌陷处理\n",
    "    if isTree(tree['left']) or isTree(tree['right']): # 如果节点有一个是子树，对数据集进行划分\n",
    "        lSet, rSet = binSplitDataSet(testData, tree['spInd'], tree['spVal'])\n",
    "    if isTree(tree['left']):# 如果左节点是子树，递归\n",
    "        tree['left'] = prune(tree['left'], lSet)\n",
    "    if isTree(tree['right']):\n",
    "        tree['right'] = prune(tree['right'], lSet)\n",
    "    if not isTree(tree['left']) and not isTree(tree['right']): # 都是叶子节点\n",
    "        lSet, rSet = binSplitDataSet(testData, tree['spInd'], tree['spVal'])\n",
    "        errorNotMerge = sum(power(lSet[:,-1] - tree['left'], 2)) + sum(power(rSet[:,-1] - tree['right'], 2))\n",
    "        treeMean = getMean(tree)\n",
    "        errorMerge = sum(power(lSet[:,-1] - treeMean, 2)) + sum(power(rSet[:,-1] - treeMean, 2))\n",
    "        if errorMerge < errorNotMerge:\n",
    "            print 'Need to merge.'\n",
    "            return treeMean\n",
    "    return tree"
   ]
  },
  {
   "cell_type": "code",
   "execution_count": 42,
   "metadata": {},
   "outputs": [
    {
     "name": "stdout",
     "output_type": "stream",
     "text": [
      "{'spInd': 0, 'spVal': 0.499171, 'right': -2.6377193297872341, 'left': {'spInd': 0, 'spVal': 0.729397, 'right': 107.68699163829788, 'left': 96.316547237288134}}\n"
     ]
    }
   ],
   "source": [
    "dataMat2 = mat(loadDataSet(dataPath+'ex2.txt'))\n",
    "regTrees2 = createTree(dataMat2, leafType=regLeaf, errType=regErr, ops=(50, 20))\n",
    "print regTrees2"
   ]
  },
  {
   "cell_type": "markdown",
   "metadata": {},
   "source": [
    "可以看到，上述，tolS设置为0后，等于是没有预剪枝，因此分裂出来N多个节点，实际上是一个数据点对应一个叶子；"
   ]
  },
  {
   "cell_type": "code",
   "execution_count": 43,
   "metadata": {},
   "outputs": [
    {
     "data": {
      "image/png": "[encoded data removed]",
      "text/plain": [
       "<matplotlib.figure.Figure at 0x7fbdd0695f10>"
      ]
     },
     "metadata": {
      "needs_background": "light"
     },
     "output_type": "display_data"
    }
   ],
   "source": [
    "plt.scatter(dataMat2[:,0].T.tolist()[0], dataMat2[:,1].T.tolist()[0])\n",
    "drawLine(regTrees2, -60, 170)"
   ]
  },
  {
   "cell_type": "markdown",
   "metadata": {},
   "source": [
    "看到，每个数据点对应一根分裂线，下面使用后剪枝技术处理一下；"
   ]
  },
  {
   "cell_type": "code",
   "execution_count": 44,
   "metadata": {},
   "outputs": [],
   "source": [
    "testArr = loadDataSet(dataPath+'ex2test.txt')\n",
    "testMat = mat(testArr)"
   ]
  },
  {
   "cell_type": "code",
   "execution_count": 45,
   "metadata": {},
   "outputs": [
    {
     "name": "stdout",
     "output_type": "stream",
     "text": [
      "Need to merge.\n",
      "{'spInd': 0, 'spVal': 0.499171, 'right': -2.6377193297872341, 'left': 102.001769437793}\n"
     ]
    }
   ],
   "source": [
    "pruneTree = prune(regTrees2, testMat)\n",
    "print pruneTree"
   ]
  },
  {
   "cell_type": "code",
   "execution_count": 46,
   "metadata": {},
   "outputs": [
    {
     "data": {
      "image/png": "[encoded data removed]",
      "text/plain": [
       "<matplotlib.figure.Figure at 0x7fbdd08f6390>"
      ]
     },
     "metadata": {
      "needs_background": "light"
     },
     "output_type": "display_data"
    }
   ],
   "source": [
    "plt.scatter(dataMat2[:,0].T.tolist()[0], dataMat2[:,1].T.tolist()[0])\n",
    "drawLine(pruneTree, -60, 170)"
   ]
  },
  {
   "cell_type": "markdown",
   "metadata": {},
   "source": [
    "在预剪枝效果已经不错的情况下，使用后剪枝可以有效的避免过拟合对最终预测结果的影响，经过后剪枝技术，将多余的那条线剪掉了，使得对数据模式的学习更加成功；"
   ]
  },
  {
   "cell_type": "markdown",
   "metadata": {},
   "source": [
    "## 模型树\n",
    "\n",
    "所谓模型树，基本结构、构建方式等都类似CART的回归树，不同的是它的叶子节点不是一个单独的特征值，而是一个分段线性函数，因此模型树可以理解为：先用树结构对数据进行划分，然后每个叶子上的数据使用线性函数进行拟合，是一种树+线性函数的有机组合，即保留了树结构的易于理解的特点，又发挥了线性函数在拟合线性数据中的优势；\n",
    "\n",
    "算法的关键在于如何利用树结构划分数据，且划分后的数据符合线性分布，即CART中的误差计算（回归树是总方差），此处的误差其实很容易看出应该是用线性模型拟合后的值来计算误差，而不是平均值（平均值是计算混乱度的），拟合后的值计算的当前数据有多**线性**；"
   ]
  },
  {
   "cell_type": "code",
   "execution_count": 130,
   "metadata": {},
   "outputs": [],
   "source": [
    "# 定义函数使用线性模型计算误差，即OLS\n",
    "def linearSolve(dataSet):\n",
    "    m,n = shape(dataSet)\n",
    "    X,Y = mat(ones((m,n))),mat(ones((m,1)))\n",
    "    X[:,1:n] = dataSet[:,0:n-1]\n",
    "    Y = dataSet[:,-1]\n",
    "    xTx = X.T*X\n",
    "    if linalg.det(xTx) == 0.0:\n",
    "        raise NameError('DataSet can not inverse.')\n",
    "    ws = xTx.I*(X.T*Y)\n",
    "    return ws, X, Y"
   ]
  },
  {
   "cell_type": "code",
   "execution_count": 131,
   "metadata": {},
   "outputs": [],
   "source": [
    "# 定义模型树的叶子节点生成函数\n",
    "def modelLeaf(dataSet):\n",
    "    return linearSolve(dataSet)[0]"
   ]
  },
  {
   "cell_type": "code",
   "execution_count": 132,
   "metadata": {},
   "outputs": [],
   "source": [
    "# 定义模型树的误差计算函数\n",
    "def modelErr(dataSet):\n",
    "    ws,X,Y = linearSolve(dataSet)\n",
    "    return sum(power(Y-X*ws ,2))"
   ]
  },
  {
   "cell_type": "code",
   "execution_count": 133,
   "metadata": {},
   "outputs": [
    {
     "data": {
      "image/png": "[encoded data removed]",
      "text/plain": [
       "<matplotlib.figure.Figure at 0x7fbdd0121c10>"
      ]
     },
     "metadata": {
      "needs_background": "light"
     },
     "output_type": "display_data"
    }
   ],
   "source": [
    "dataMat = mat(loadDataSet(dataPath+'exp2.txt'))\n",
    "modelTrees = createTree(dataMat, leafType=regLeaf, errType=regErr, ops=(50,20))\n",
    "plt.scatter(dataMat[:,0].T.tolist()[0], dataMat[:,1].T.tolist()[0])\n",
    "drawLine(modelTrees, bottom=0, top=15)"
   ]
  },
  {
   "cell_type": "markdown",
   "metadata": {},
   "source": [
    "可以看到，上述数据使用回归树的效果就不是很好，我们肉眼可见的模式是在0.3左右划分数据，然后用两根直线拟合，但是如果有回归树的算法，是不可能得到这个结果的，因为对于回归树来说，右侧数据的误差太大，需要划分，而模型树就不会有这个问题；"
   ]
  },
  {
   "cell_type": "code",
   "execution_count": 135,
   "metadata": {},
   "outputs": [
    {
     "data": {
      "image/png": "[encoded data removed]",
      "text/plain": [
       "<matplotlib.figure.Figure at 0x7fbdd012c410>"
      ]
     },
     "metadata": {
      "needs_background": "light"
     },
     "output_type": "display_data"
    }
   ],
   "source": [
    "dataMat = mat(loadDataSet(dataPath+'exp2.txt'))\n",
    "modelTrees = createTree(dataMat, leafType=modelLeaf, errType=modelErr, ops=(5,20))\n",
    "plt.scatter(dataMat[:,0].T.tolist()[0], dataMat[:,1].T.tolist()[0])\n",
    "drawLine(modelTrees, bottom=0, top=15)"
   ]
  },
  {
   "cell_type": "code",
   "execution_count": 136,
   "metadata": {},
   "outputs": [
    {
     "name": "stdout",
     "output_type": "stream",
     "text": [
      "{'spInd': 0, 'spVal': 0.285477, 'right': matrix([[ 3.46877936],\n",
      "        [ 1.18521743]]), 'left': matrix([[  1.69855694e-03],\n",
      "        [  1.19647739e+01]])}\n"
     ]
    }
   ],
   "source": [
    "print modelTrees"
   ]
  },
  {
   "cell_type": "markdown",
   "metadata": {},
   "source": [
    "哇，不容易啊，可以看到在模型树上，可以得到一个非常不错的结果，且经过测试，ops为(1,10)和(5,20)结果都是一样的，该模型树在特征0的0.28处划分数据，左右叶子上都是一个线性回归函数，因此可以说针对这个数据集，模型树是最合适的，比回归树和线性回归都合适；"
   ]
  },
  {
   "cell_type": "markdown",
   "metadata": {},
   "source": [
    "## 小结\n",
    "\n",
    "非线性、复杂数据无法直接使用线性回归来处理，此时我们可以结束CART构建的回归树、模型树，相对来说，回归树更适合数据中无明显的分段线性模式的数据，而模型树适用于数据中有分段线性模式的数据，通过剪枝操作，我们可以对树的过拟合问题进行优化，分为预剪枝和后剪枝，通常是二者相结合，预剪枝对参数及其敏感，而后剪枝则是在一个复杂模型的基础上利用测试数据进行简化模型结构的过程；"
   ]
  }
 ],
 "metadata": {
  "kernelspec": {
   "display_name": "Python 2",
   "language": "python",
   "name": "python2"
  },
  "language_info": {
   "codemirror_mode": {
    "name": "ipython",
    "version": 2
   },
   "file_extension": ".py",
   "mimetype": "text/x-python",
   "name": "python",
   "nbconvert_exporter": "python",
   "pygments_lexer": "ipython2",
   "version": "2.7.13"
  },
  "toc": {
   "nav_menu": {},
   "number_sections": true,
   "sideBar": true,
   "skip_h1_title": false,
   "title_cell": "Table of Contents",
   "title_sidebar": "Contents",
   "toc_cell": false,
   "toc_position": {},
   "toc_section_display": true,
   "toc_window_display": false
  }
 },
 "nbformat": 4,
 "nbformat_minor": 2
}
