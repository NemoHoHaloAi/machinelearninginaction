{
 "cells": [
  {
   "cell_type": "markdown",
   "metadata": {},
   "source": [
    "# 机器学习基础"
   ]
  },
  {
   "cell_type": "markdown",
   "metadata": {},
   "source": [
    "## 机器学习目的"
   ]
  },
  {
   "cell_type": "markdown",
   "metadata": {},
   "source": [
    "从原始的、具体的数据中抽取到抽象的、有用的信息，并帮助我们对未来进行预测；"
   ]
  },
  {
   "cell_type": "markdown",
   "metadata": {},
   "source": [
    "## 类别"
   ]
  },
  {
   "cell_type": "markdown",
   "metadata": {},
   "source": [
    "两类：\n",
    "* 监督学习：例如根据身高预测体重，目标特征为体重，是一个已知，且在训练集中存在的属性；\n",
    "* 非监督学习：将数据集合分成由类似的对象组成的多个类的过程被称为聚类;将寻找描述数据统计值的过程称之为密度估计；"
   ]
  },
  {
   "cell_type": "markdown",
   "metadata": {},
   "source": [
    "## 分类vs回归"
   ]
  },
  {
   "cell_type": "markdown",
   "metadata": {},
   "source": [
    "根据目标特征的数据类型，监督学习分为：\n",
    "* 分类：目标特征为有限的枚举型数据，例如性别-男/女；\n",
    "* 回归：目标特征为数值型，例如体重-94/95.5/68.33；"
   ]
  },
  {
   "cell_type": "markdown",
   "metadata": {},
   "source": [
    "## 训练数据vs验证数据vs测试数据"
   ]
  },
  {
   "cell_type": "markdown",
   "metadata": {},
   "source": [
    "数据分为：\n",
    "* 训练数据：该部分数据用于模型的训练，通常占全部数据的70%；\n",
    "* 验证数据：用于模型的性能验证，通常占10%；\n",
    "* 测试数据：用于模型的性能、泛化能力测试，通常占20%；\n",
    "\n",
    "交叉验证对数据的N次利用，最大程度上发挥了全部数据的威力，感谢cv。"
   ]
  },
  {
   "cell_type": "markdown",
   "metadata": {},
   "source": [
    "## 选择合适的算法"
   ]
  },
  {
   "cell_type": "markdown",
   "metadata": {},
   "source": [
    "选择算法流程：\n",
    "\n",
    "1. 考虑算法的目的，是否要预测目标变量的值：\n",
    "    1. 是：\n",
    "        1. 确定目标变量类型？\n",
    "            1. 离散型：分类器算法；\n",
    "            2. 连续型：回归算法；\n",
    "    2. 否：\n",
    "        1. 是否需要将数据划分为离散的组？\n",
    "            1. 聚类算法；\n",
    "        2. 是否需要估计数据与每个分组的相似度？\n",
    "            1. 密度估计算法；\n",
    "2. 考虑数据问题：充分了解数据,对实际数据了解得越充分,越容易创建符合实际需求的应用程序：\n",
    "    1. 特征值是离散的还是连续的（例如逻辑树要求特征是离散的）；\n",
    "    2. 特征值是否存在缺失数据（缺失原因是什么，缺失是要填充，还是丢弃）；\n",
    "    3. 缺失的原因；\n",
    "    4. 是否存在异常值（异常原因是什么，是要重新设置值，还是保留、删除）；\n",
    "    5. 某个特征发生的频率（是否非常非常低，某个特征下分类很不平衡的话对结果也会有影响）；"
   ]
  },
  {
   "cell_type": "markdown",
   "metadata": {},
   "source": [
    "## 机器学习算法开发步骤"
   ]
  },
  {
   "cell_type": "markdown",
   "metadata": {},
   "source": [
    "1. 收集数据：各种途径收集，例如爬虫、开放api、传感器等等；\n",
    "2. 准备输入数据：将收集到的数据整理成符合程序需要的格式；\n",
    "3. 分析输入数据：人工对数据进行预处理，（例如异常值、缺失数据等）深入了解数据，特征工程；\n",
    "4. 训练算法：使用数据对模型进行训练，非监督学习由于没有目标变量，因此没有这一步；\n",
    "5. 测试算法并调优：对训练得到的模型进行测试，如果效果不好，则需要返回第4步，甚至第1步迭代；\n",
    "6. 使用算法预测：将机器学习算法转换为应用程序,执行实际任务,以检验上述步骤是否可以在实际环境中正常工作。此时如果碰到新的数据问题,同样需要重复执行上述的步骤；"
   ]
  }
 ],
 "metadata": {
  "kernelspec": {
   "display_name": "Python 2",
   "language": "python",
   "name": "python2"
  },
  "language_info": {
   "codemirror_mode": {
    "name": "ipython",
    "version": 2
   },
   "file_extension": ".py",
   "mimetype": "text/x-python",
   "name": "python",
   "nbconvert_exporter": "python",
   "pygments_lexer": "ipython2",
   "version": "2.7.13"
  },
  "toc": {
   "nav_menu": {},
   "number_sections": true,
   "sideBar": true,
   "skip_h1_title": false,
   "title_cell": "Table of Contents",
   "title_sidebar": "Contents",
   "toc_cell": false,
   "toc_position": {},
   "toc_section_display": true,
   "toc_window_display": true
  }
 },
 "nbformat": 4,
 "nbformat_minor": 2
}
