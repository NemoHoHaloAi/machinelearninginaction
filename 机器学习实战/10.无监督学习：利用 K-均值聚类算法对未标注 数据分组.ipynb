{
 "cells": [
  {
   "cell_type": "markdown",
   "metadata": {},
   "source": [
    "# 聚类算法：K-Mean\n",
    "\n",
    "所谓聚类算法是一种非监督学习算法，通过将相似的事物划分到一个簇来实现全自动分类（连簇的类别都是自动生成的），K-Mean是一种聚类算法，通过指定将数据划分为K个簇，每个簇的中心就是该簇所含数据的Mean值；\n",
    "\n",
    "簇识别：聚类算法对数据进行分类后，每个类对应的到底是什么，通常簇识别来进行解释；"
   ]
  },
  {
   "cell_type": "code",
   "execution_count": 114,
   "metadata": {},
   "outputs": [],
   "source": [
    "from numpy import *\n",
    "\n",
    "import matplotlib.pyplot as plt\n",
    "\n",
    "%matplotlib inline\n",
    "\n",
    "dataPath = '../../../git_mlaction/machinelearninginaction/Ch10/'\n",
    "\n",
    "markers = ['o', '+', 'x', '*', 's', 'd']"
   ]
  },
  {
   "cell_type": "markdown",
   "metadata": {},
   "source": [
    "## K-Mean\n",
    "\n",
    "* 优点：容易实现；\n",
    "* 缺点：可以收敛到局部最小值、大规模数据上收敛慢、参数敏感K；\n",
    "* 适用数据类型：数值型；\n",
    "\n",
    "算法思路流程：\n",
    "1. 随机生成K个数据点为质心；\n",
    "2. 将所有点划分到K个簇中，即计算与质心的距离，选择最近的那个加入；\n",
    "3. 重新计算质心（新簇的中心点）；\n",
    "4. 重复2,3；\n",
    "5. 当迭代中，质心不再改变时，程序结束退出；"
   ]
  },
  {
   "cell_type": "code",
   "execution_count": 2,
   "metadata": {},
   "outputs": [],
   "source": [
    "# 加载数据\n",
    "def loadDataSet(fn):\n",
    "    dataArr = []\n",
    "    with open(fn) as f:\n",
    "        for line in f.readlines():\n",
    "            features = line.strip().split('\\t')\n",
    "            dataArr.append(map(float, features))\n",
    "    return dataArr"
   ]
  },
  {
   "cell_type": "code",
   "execution_count": 3,
   "metadata": {},
   "outputs": [],
   "source": [
    "# 定义距离计算函数 - 欧氏距离\n",
    "def dist(vecA, vecB):\n",
    "    return sqrt(sum(power(vecA - vecB ,2)))"
   ]
  },
  {
   "cell_type": "code",
   "execution_count": 21,
   "metadata": {},
   "outputs": [],
   "source": [
    "# 随机挑选簇质心\n",
    "def randCent(dataSet, k):\n",
    "    n = shape(dataSet)[1]\n",
    "    centers = mat(zeros((k,n)))\n",
    "    for j in range(n):# 遍历每个特征\n",
    "        minV,maxV = min(dataSet[:,j]),max(dataSet[:,j])\n",
    "        centers[:,j] = minV + (float(maxV-minV))*(mat(random.rand(k, 1)))\n",
    "    return centers"
   ]
  },
  {
   "cell_type": "code",
   "execution_count": 25,
   "metadata": {},
   "outputs": [
    {
     "data": {
      "text/plain": [
       "<matplotlib.collections.PathCollection at 0x7f2b3cedbb90>"
      ]
     },
     "execution_count": 25,
     "metadata": {},
     "output_type": "execute_result"
    },
    {
     "data": {
      "image/png": "[encoded data removed]",
      "text/plain": [
       "<matplotlib.figure.Figure at 0x7f2b3cf86190>"
      ]
     },
     "metadata": {
      "needs_background": "light"
     },
     "output_type": "display_data"
    }
   ],
   "source": [
    "dataMat = mat(loadDataSet(dataPath+'testSet.txt'))\n",
    "plt.scatter(dataMat[:,0].T.tolist()[0], dataMat[:,1].T.tolist()[0])"
   ]
  },
  {
   "cell_type": "code",
   "execution_count": 26,
   "metadata": {},
   "outputs": [
    {
     "data": {
      "text/plain": [
       "matrix([[ 3.85975864,  2.12199572],\n",
       "        [ 0.14694768,  0.754401  ],\n",
       "        [-3.88598166, -0.26216323]])"
      ]
     },
     "execution_count": 26,
     "metadata": {},
     "output_type": "execute_result"
    }
   ],
   "source": [
    "randCent(dataMat, 3)"
   ]
  },
  {
   "cell_type": "code",
   "execution_count": 27,
   "metadata": {},
   "outputs": [
    {
     "data": {
      "text/plain": [
       "5.184632816681332"
      ]
     },
     "execution_count": 27,
     "metadata": {},
     "output_type": "execute_result"
    }
   ],
   "source": [
    "dist(dataMat[0], dataMat[1])"
   ]
  },
  {
   "cell_type": "code",
   "execution_count": 107,
   "metadata": {},
   "outputs": [],
   "source": [
    "# 定义K-Mean算法\n",
    "\n",
    "def kMeans(dataSet, k, distMeas=dist, createCent=randCent):\n",
    "    isClusterChange = True\n",
    "    centerChangeHistory = []\n",
    "    centers = createCent(dataSet, k)\n",
    "    centerChangeHistory.append(centers.copy())\n",
    "    clusterMap = mat(zeros((shape(dataSet)[0], 2)))\n",
    "    clusterAssment = mat(zeros((shape(dataSet)[0],2)))\n",
    "    while isClusterChange:\n",
    "        centerChangeHistory.append(centers.copy())\n",
    "        isClusterChange = False\n",
    "        # 将数据分到各个簇\n",
    "        for i in range(shape(dataSet)[0]):\n",
    "            dataPoint = dataSet[i]\n",
    "            minDist = distMeas(dataPoint, centers[int(clusterMap[i,1])])\n",
    "            for j in range(k):\n",
    "                curDist = distMeas(dataPoint, centers[j])\n",
    "                if curDist < minDist:\n",
    "                    minDist = curDist\n",
    "                    clusterAssment[i,:] = j, minDist\n",
    "                    # 判断质心是否有变化\n",
    "                    if clusterMap[i,1] != j:\n",
    "                        clusterMap[i,1] = j\n",
    "                        isClusterChange = True\n",
    "        # 重新计算质心\n",
    "        for i in range(k):\n",
    "            clusterDataSet = dataSet[nonzero(clusterMap[:,1]==i)[0]]\n",
    "            centerTmp = mean(clusterDataSet, 0)\n",
    "            centers[i] = centerTmp if shape(clusterDataSet)[0] > 0 else centers[i]\n",
    "        \n",
    "    return centers, clusterAssment, centerChangeHistory"
   ]
  },
  {
   "cell_type": "code",
   "execution_count": 108,
   "metadata": {},
   "outputs": [
    {
     "name": "stdout",
     "output_type": "stream",
     "text": [
      "[matrix([[-0.40106988,  3.59935236],\n",
      "        [ 2.01947379,  0.37769538],\n",
      "        [-2.38016   ,  3.47432399],\n",
      "        [-3.12275617,  2.89824497]]), matrix([[-0.40106988,  3.59935236],\n",
      "        [ 2.01947379,  0.37769538],\n",
      "        [-2.38016   ,  3.47432399],\n",
      "        [-3.12275617,  2.89824497]]), matrix([[ 1.73668767,  3.71136483],\n",
      "        [ 2.16082377, -1.41030723],\n",
      "        [-1.82446014,  3.08221329],\n",
      "        [-3.53795846, -0.47719315]]), matrix([[ 2.54391447,  3.21299611],\n",
      "        [ 2.72102136, -2.61215086],\n",
      "        [-2.38799628,  2.96837672],\n",
      "        [-3.50009376, -2.50791867]]), matrix([[ 2.6265299 ,  3.10868015],\n",
      "        [ 2.65077367, -2.79019029],\n",
      "        [-2.46154315,  2.78737555],\n",
      "        [-3.53973889, -2.89384326]])]\n"
     ]
    }
   ],
   "source": [
    "centers, _, centerHistory = kMeans(dataMat, 4)\n",
    "print centerHistory"
   ]
  },
  {
   "cell_type": "code",
   "execution_count": 109,
   "metadata": {},
   "outputs": [
    {
     "data": {
      "image/png": "[encoded data removed]",
      "text/plain": [
       "<matplotlib.figure.Figure at 0x7f2b3993e1d0>"
      ]
     },
     "metadata": {
      "needs_background": "light"
     },
     "output_type": "display_data"
    }
   ],
   "source": [
    "plt.scatter(dataMat[:,0].T.tolist()[0], dataMat[:,1].T.tolist()[0])\n",
    "for center in centerHistory:\n",
    "    plt.scatter(center[:,0].T.tolist()[0], center[:,1].T.tolist()[0], marker='*')"
   ]
  },
  {
   "cell_type": "markdown",
   "metadata": {},
   "source": [
    "可以看到，经过N次迭代后，质心一直在往4个簇的中心靠拢；"
   ]
  },
  {
   "cell_type": "markdown",
   "metadata": {},
   "source": [
    "## 使用后处理来提高聚类性能\n",
    "\n",
    "所谓后处理指的是在聚类结果的基础上进行优化，由于K-Mean可能会得到局部最优解，因此可能不是全局最优的，这种情况我们可以通过手工的合并、拆分某些簇来对聚类结果进行再处理，而不管是K-Mean还是二分K-Mean，都很依赖于k的设置，因此同样可能存在由于k的设置不合理，导致聚类效果不好的情况，这种情况也可以通过各种后处理手段来优化；"
   ]
  },
  {
   "cell_type": "markdown",
   "metadata": {},
   "source": [
    "## 二分K-Mean算法\n",
    "\n",
    "二分类K-Mean算法是为了解决K-Mean算法可能得到局部最小值的问题，每一次簇的分裂都会考虑对整体SSE的影响，因此理论上会得到全局最优解；"
   ]
  },
  {
   "cell_type": "code",
   "execution_count": 180,
   "metadata": {},
   "outputs": [],
   "source": [
    "def biKmeans(dataSet, k, distMeas = dist):\n",
    "    m = shape(dataSet)[0]\n",
    "    clusterAssment = mat(zeros((m,2)))\n",
    "    centroid0 = mean(dataSet, 0).tolist()[0] # 第一个簇，整体数据集就是一个簇\n",
    "    centList = [centroid0] # 保存第一个簇的特征值数据\n",
    "    print 'Centroid List:', centList\n",
    "    centListHistory = []\n",
    "    centListHistory.append(centList[:])\n",
    "    for j in range(m):\n",
    "        clusterAssment[j,1] = distMeas(mat(centroid0), dataSet[j,:])**2 # 保存每个数据点到第一个簇的距离的平方\n",
    "    while (len(centList) < k): # 如果尚未达到指定的簇数\n",
    "        minSSE = inf\n",
    "        for i in range(len(centList)):\n",
    "            clusterDataSet = dataSet[nonzero(clusterAssment[:,0].A==i)[0],:] # 选择当前簇中的所有数据\n",
    "            centroidMat, splitClustAss, _ = kMeans(clusterDataSet, 2, distMeas) # 对数据进行k为2的K-Mean算法\n",
    "            splitSSE = sum(splitClustAss[:,1])\n",
    "            notSplitSSE = sum(clusterAssment[nonzero(clusterAssment[:,0].A!=i)[0],1])\n",
    "            print 'Split SSE:', splitSSE, ', Not Split SSE:', notSplitSSE, 'Min SEE:', minSSE\n",
    "            if (splitSSE+notSplitSSE) < minSSE:\n",
    "                bestCent2Split = i\n",
    "                bestNewCents = centroidMat\n",
    "                bestClustAss = splitClustAss.copy()\n",
    "                minSSE = splitSSE+notSplitSSE\n",
    "        bestClustAss[nonzero(bestClustAss[:,0].A==1)[0],0] = len(centList)\n",
    "        bestClustAss[nonzero(bestClustAss[:,0].A==0)[0],0] = bestCent2Split\n",
    "        print 'The best centroid to split:', bestCent2Split\n",
    "        print 'The len of bestClustAss:', len(bestClustAss)\n",
    "        centList[bestCent2Split] = bestNewCents[0,:].tolist()[0]\n",
    "        centList.append(bestNewCents[1,:].tolist()[0])\n",
    "        print 'Centroid List:', centList\n",
    "        clusterAssment[nonzero(clusterAssment[:,0].A==bestCent2Split)[0],:] = bestClustAss\n",
    "        centListHistory.append(centList[:])\n",
    "    return centList, clusterAssment, centListHistory"
   ]
  },
  {
   "cell_type": "code",
   "execution_count": 207,
   "metadata": {},
   "outputs": [
    {
     "name": "stdout",
     "output_type": "stream",
     "text": [
      "o\n",
      "+\n",
      "x\n",
      "*\n",
      "s\n"
     ]
    },
    {
     "data": {
      "image/png": "[encoded data removed]",
      "text/plain": [
       "<matplotlib.figure.Figure at 0x7f2b38fe74d0>"
      ]
     },
     "metadata": {
      "needs_background": "light"
     },
     "output_type": "display_data"
    }
   ],
   "source": [
    "dataMat = mat(loadDataSet(dataPath+'testSet2.txt'))\n",
    "centers, _, centerHistory = kMeans(dataMat, 2)\n",
    "plt.scatter(dataMat[:,0].T.tolist()[0], dataMat[:,1].T.tolist()[0])\n",
    "for i in range(len(centerHistory)):\n",
    "    center = centerHistory[i]\n",
    "    print markers[i%len(markers)]\n",
    "    plt.scatter(center[:,0].T.tolist()[0], center[:,1].T.tolist()[0], marker=markers[i%len(markers)], s=100)"
   ]
  },
  {
   "cell_type": "code",
   "execution_count": 208,
   "metadata": {},
   "outputs": [
    {
     "name": "stdout",
     "output_type": "stream",
     "text": [
      "Centroid List: [[-0.15772275000000002, 1.2253301166666664]]\n",
      "Split SSE: 175.763533689 , Not Split SSE: 0.0 Min SEE: inf\n",
      "The best centroid to split: 0\n",
      "The len of bestClustAss: 60\n",
      "Centroid List: [[-0.45965614999999993, -2.7782156000000002], [-0.006756050000000002, 3.2271029749999998]]\n",
      "Split SSE: 21.790654615 , Not Split SSE: 173.608442447 Min SEE: inf\n",
      "Split SSE: 149.995092821 , Not Split SSE: 2.15509124223 Min SEE: 195.399097062\n",
      "The best centroid to split: 1\n",
      "The len of bestClustAss: 40\n",
      "Centroid List: [[-0.45965614999999993, -2.7782156000000002], [2.93386365, 3.12782785], [-2.94737575, 3.3263781000000003]]\n",
      "[[[-0.15772275000000002, 1.2253301166666664]], [[-0.45965614999999993, -2.7782156000000002], [-0.006756050000000002, 3.2271029749999998]], [[-0.45965614999999993, -2.7782156000000002], [2.93386365, 3.12782785], [-2.94737575, 3.3263781000000003]]]\n"
     ]
    },
    {
     "data": {
      "image/png": "[encoded data removed]",
      "text/plain": [
       "<matplotlib.figure.Figure at 0x7f2b38df7ed0>"
      ]
     },
     "metadata": {
      "needs_background": "light"
     },
     "output_type": "display_data"
    }
   ],
   "source": [
    "dataMat = mat(loadDataSet(dataPath+'testSet2.txt'))\n",
    "centers, _, centerHistory = biKmeans(dataMat, 3)\n",
    "print centerHistory\n",
    "plt.scatter(dataMat[:,0].T.tolist()[0], dataMat[:,1].T.tolist()[0])\n",
    "for i in range(len(centerHistory)):\n",
    "    centerList = centerHistory[i]\n",
    "    for j in range(len(centerList)):\n",
    "        center = centerList[j]\n",
    "        plt.scatter(center[0], center[1], marker=markers[i%len(markers)], s=100)"
   ]
  },
  {
   "cell_type": "markdown",
   "metadata": {},
   "source": [
    "biKmeans函数，尚存在一个随机的min函数传入queue长度为0的bug，且bitKmeans不能保证每次运行都是全局最优解，因为它的过程中依赖于kMeans函数，而kMeans函数是有一定随机性的；"
   ]
  },
  {
   "cell_type": "markdown",
   "metadata": {},
   "source": [
    "## 小结\n",
    "\n",
    "聚类算法是一种无监督算法，即训练数据中不存在类别标签等目标特征，K-Means是一种聚类算法，通过随机指定k个质心，循环进行：将数据点划分到各个簇、重新计算簇的质心，直到无数据变动为止，该算法的一个问题是可能得到局部最优解，而二分K-Means是一种改良的K-Means算法，能够得到更好的聚类效果它的簇生成逻辑是这样的，刚开始全部数据都在一个簇里，此时开始对簇进行分裂，分裂原则是能够使得分裂后整体SSE最小的那个簇进行分裂，直到簇的总数满足k为止；\n",
    "\n",
    "在聚类结果出来后，我们可以通过一些**后处理**手段持续优化聚类性能；"
   ]
  }
 ],
 "metadata": {
  "kernelspec": {
   "display_name": "Python 2",
   "language": "python",
   "name": "python2"
  },
  "language_info": {
   "codemirror_mode": {
    "name": "ipython",
    "version": 2
   },
   "file_extension": ".py",
   "mimetype": "text/x-python",
   "name": "python",
   "nbconvert_exporter": "python",
   "pygments_lexer": "ipython2",
   "version": "2.7.13"
  },
  "toc": {
   "nav_menu": {},
   "number_sections": true,
   "sideBar": true,
   "skip_h1_title": false,
   "title_cell": "Table of Contents",
   "title_sidebar": "Contents",
   "toc_cell": false,
   "toc_position": {},
   "toc_section_display": true,
   "toc_window_display": false
  }
 },
 "nbformat": 4,
 "nbformat_minor": 2
}
