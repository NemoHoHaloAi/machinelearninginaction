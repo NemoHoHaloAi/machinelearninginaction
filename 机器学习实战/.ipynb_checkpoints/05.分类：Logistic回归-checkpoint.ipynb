{
 "cells": [
  {
   "cell_type": "markdown",
   "metadata": {},
   "source": [
    "# LR\n",
    "\n",
    "\n",
    "## 概述\n",
    "\n",
    "给出一堆数据点，用一条直线对这些点进行拟合，这个拟合的过程称之为**回归**，利用Logistic回归进行分类的思想是：根据现有数据对分类边界线建立回归公式，以此进行分类，LR的训练即使用最优化算法，寻找最佳的拟合参数集；\n",
    "\n",
    "## 要求\n",
    "\n",
    "由于要计算距离，因此要求特征为数值型数据；"
   ]
  },
  {
   "cell_type": "code",
   "execution_count": 1,
   "metadata": {},
   "outputs": [],
   "source": [
    "from numpy import *\n",
    "import matplotlib.pyplot as plt\n",
    "\n",
    "dataPath = '../../../git_mlaction/machinelearninginaction/Ch05/'\n",
    "\n",
    "%matplotlib inline"
   ]
  },
  {
   "cell_type": "markdown",
   "metadata": {},
   "source": [
    "## 基于Logistic回归和Sigmoid函数的分类\n",
    "\n",
    "优点：\n",
    "* 计算代价不高；\n",
    "* 易于理解和实现；\n",
    "\n",
    "缺点：\n",
    "* 容易欠拟合；\n",
    "* 精度不高；\n",
    "\n",
    "适用数据类型：\n",
    "* 数值型；\n",
    "* 标称型；"
   ]
  },
  {
   "cell_type": "markdown",
   "metadata": {},
   "source": [
    "### Sigmoid函数\n",
    "\n",
    "一种阶跃函数（Step Function），输出0或1，且0到1的跳跃过程不是瞬间的，因此更易处理；\n",
    "\n",
    "如下图：\n",
    "![Sigmoid](./image/sigmoid.png)\n",
    "可以想象，当横坐标无限长时，Sigmoid函数就是一个阶跃函数；\n",
    "\n",
    "公式：1/(1+e^-x)，x为输入参数（x为0时，结果为0.5），即各个特征值乘以回归系数后的结果相加，因此问题的重点变成了，如何确认回归系数；"
   ]
  },
  {
   "cell_type": "markdown",
   "metadata": {},
   "source": [
    "## 基于最优化方法的最佳回归系数确定\n",
    "\n",
    "对于Sigmoid函数的输入参数z，由下面公式得到：z=w0\\*x0...wn\\*xn，其中x为特征数值，w为对应的回归系数（权重）；"
   ]
  },
  {
   "cell_type": "markdown",
   "metadata": {},
   "source": [
    "### GA - 梯度上升法（没错，就是上升）\n",
    "\n",
    "基本思想：要找到某个函数的最大值（上升，如果是最小值，则是下降），最好的方法是沿着该函数的梯度方向探寻，不停的迭代，直到满足某个迭代停止的条件为止；\n",
    "\n",
    "如下图：\n",
    "![梯度上升示意图](./image/梯度上升.jpg)\n",
    "\n",
    "可以看出，每一步都是朝着最佳（即上升最快）的移动方向，按照某个step进行上升；"
   ]
  },
  {
   "cell_type": "markdown",
   "metadata": {},
   "source": [
    "### 训练算法：使用GA找到最佳参数（回归系数，某个函数的最大值）"
   ]
  },
  {
   "cell_type": "code",
   "execution_count": 2,
   "metadata": {},
   "outputs": [
    {
     "name": "stdout",
     "output_type": "stream",
     "text": [
      "[[1.0, -0.017612, 14.053064], [1.0, -1.395634, 4.662541], [1.0, -0.752157, 6.53862], [1.0, -1.322371, 7.152853], [1.0, 0.423363, 11.054677], [1.0, 0.406704, 7.067335], [1.0, 0.667394, 12.741452], [1.0, -2.46015, 6.866805], [1.0, 0.569411, 9.548755], [1.0, -0.026632, 10.427743], [1.0, 0.850433, 6.920334], [1.0, 1.347183, 13.1755], [1.0, 1.176813, 3.16702], [1.0, -1.781871, 9.097953], [1.0, -0.566606, 5.749003], [1.0, 0.931635, 1.589505], [1.0, -0.024205, 6.151823], [1.0, -0.036453, 2.690988], [1.0, -0.196949, 0.444165], [1.0, 1.014459, 5.754399], [1.0, 1.985298, 3.230619], [1.0, -1.693453, -0.55754], [1.0, -0.576525, 11.778922], [1.0, -0.346811, -1.67873], [1.0, -2.124484, 2.672471], [1.0, 1.217916, 9.597015], [1.0, -0.733928, 9.098687], [1.0, -3.642001, -1.618087], [1.0, 0.315985, 3.523953], [1.0, 1.416614, 9.619232], [1.0, -0.386323, 3.989286], [1.0, 0.556921, 8.294984], [1.0, 1.224863, 11.58736], [1.0, -1.347803, -2.406051], [1.0, 1.196604, 4.951851], [1.0, 0.275221, 9.543647], [1.0, 0.470575, 9.332488], [1.0, -1.889567, 9.542662], [1.0, -1.527893, 12.150579], [1.0, -1.185247, 11.309318], [1.0, -0.445678, 3.297303], [1.0, 1.042222, 6.105155], [1.0, -0.618787, 10.320986], [1.0, 1.152083, 0.548467], [1.0, 0.828534, 2.676045], [1.0, -1.237728, 10.549033], [1.0, -0.683565, -2.166125], [1.0, 0.229456, 5.921938], [1.0, -0.959885, 11.555336], [1.0, 0.492911, 10.993324], [1.0, 0.184992, 8.721488], [1.0, -0.355715, 10.325976], [1.0, -0.397822, 8.058397], [1.0, 0.824839, 13.730343], [1.0, 1.507278, 5.027866], [1.0, 0.099671, 6.835839], [1.0, -0.344008, 10.717485], [1.0, 1.785928, 7.718645], [1.0, -0.918801, 11.560217], [1.0, -0.364009, 4.7473], [1.0, -0.841722, 4.119083], [1.0, 0.490426, 1.960539], [1.0, -0.007194, 9.075792], [1.0, 0.356107, 12.447863], [1.0, 0.342578, 12.281162], [1.0, -0.810823, -1.466018], [1.0, 2.530777, 6.476801], [1.0, 1.296683, 11.607559], [1.0, 0.475487, 12.040035], [1.0, -0.783277, 11.009725], [1.0, 0.074798, 11.02365], [1.0, -1.337472, 0.468339], [1.0, -0.102781, 13.763651], [1.0, -0.147324, 2.874846], [1.0, 0.518389, 9.887035], [1.0, 1.015399, 7.571882], [1.0, -1.658086, -0.027255], [1.0, 1.319944, 2.171228], [1.0, 2.056216, 5.019981], [1.0, -0.851633, 4.375691], [1.0, -1.510047, 6.061992], [1.0, -1.076637, -3.181888], [1.0, 1.821096, 10.28399], [1.0, 3.01015, 8.401766], [1.0, -1.099458, 1.688274], [1.0, -0.834872, -1.733869], [1.0, -0.846637, 3.849075], [1.0, 1.400102, 12.628781], [1.0, 1.752842, 5.468166], [1.0, 0.078557, 0.059736], [1.0, 0.089392, -0.7153], [1.0, 1.825662, 12.693808], [1.0, 0.197445, 9.744638], [1.0, 0.126117, 0.922311], [1.0, -0.679797, 1.22053], [1.0, 0.677983, 2.556666], [1.0, 0.761349, 10.693862], [1.0, -2.168791, 0.143632], [1.0, 1.38861, 9.341997], [1.0, 0.317029, 14.739025]]\n",
      "[0.0, 1.0, 0.0, 0.0, 0.0, 1.0, 0.0, 1.0, 0.0, 0.0, 1.0, 0.0, 1.0, 0.0, 1.0, 1.0, 1.0, 1.0, 1.0, 1.0, 1.0, 1.0, 0.0, 1.0, 1.0, 0.0, 0.0, 1.0, 1.0, 0.0, 1.0, 1.0, 0.0, 1.0, 1.0, 0.0, 0.0, 0.0, 0.0, 0.0, 1.0, 1.0, 0.0, 1.0, 1.0, 0.0, 1.0, 1.0, 0.0, 0.0, 0.0, 0.0, 0.0, 0.0, 1.0, 1.0, 0.0, 1.0, 0.0, 1.0, 1.0, 1.0, 0.0, 0.0, 0.0, 1.0, 1.0, 0.0, 0.0, 0.0, 0.0, 1.0, 0.0, 1.0, 0.0, 0.0, 1.0, 1.0, 1.0, 1.0, 0.0, 1.0, 0.0, 1.0, 1.0, 1.0, 1.0, 0.0, 1.0, 1.0, 1.0, 0.0, 0.0, 1.0, 1.0, 1.0, 0.0, 1.0, 0.0, 0.0]\n"
     ]
    }
   ],
   "source": [
    "# 加载数据，这里数据特征是以tab分割的\n",
    "def loadDataSet():\n",
    "    dataMat, labelMat = [], []\n",
    "    with open(dataPath+'testSet.txt') as testFile:\n",
    "        for line in testFile.readlines():\n",
    "            features = line.strip().split()\n",
    "            dataMat.append([1.0, float(features[0]), float(features[1])])\n",
    "            labelMat.append(float(features[2]))\n",
    "    return dataMat, labelMat\n",
    "\n",
    "a,b = loadDataSet()\n",
    "print a\n",
    "print b"
   ]
  },
  {
   "cell_type": "code",
   "execution_count": 3,
   "metadata": {},
   "outputs": [
    {
     "name": "stdout",
     "output_type": "stream",
     "text": [
      "0.5\n"
     ]
    }
   ],
   "source": [
    "# 目标函数：Sigmoid\n",
    "def sigmoid(inX):\n",
    "    return 1.0/(1.0+exp(-inX))\n",
    "\n",
    "print sigmoid(0)"
   ]
  },
  {
   "cell_type": "code",
   "execution_count": 60,
   "metadata": {},
   "outputs": [],
   "source": [
    "# GA\n",
    "def grandAscent(dataMatIn, classLabels, alpha=0.001, maxCycles=500):\n",
    "    '''\n",
    "    dataMatIn:训练样本的矩阵格式，由于有一个X0，因此是100*3的矩阵；\n",
    "    classLabels:类别向量,100；\n",
    "    '''\n",
    "    dataMatrix = mat(dataMatIn)\n",
    "    labelMatrix = mat(classLabels).transpose() # 将行向量转置为列向量，方便计算\n",
    "    m,n = shape(dataMatrix) # 获取矩阵列数、行数\n",
    "    _alpha = alpha # step？\n",
    "    _maxCycles = maxCycles # 最大迭代次数\n",
    "    weights = ones((n,1)) # 创建n列，1行的1矩阵，即默认回归系数均为1，每个特征都一样重要\n",
    "    error = None\n",
    "    for k in range(maxCycles):\n",
    "        h = sigmoid(dataMatrix*weights) # 计算所有样本与回归系数的Sigmoid值\n",
    "        error = labelMatrix - h # 计算每个样本的误差，由1（实际为1预测为0）、-1（实际为0预测为1）、0（预测正确）组成\n",
    "        # transpose 行列转置\n",
    "        print 'data transpose:', dataMatrix.shape\n",
    "        print 'error:', error.shape\n",
    "        print 'data transpose*error:', (dataMatrix.transpose() * error).shape\n",
    "        #print 'data transpose:', dataMatrix.transpose().shape\n",
    "        weights = weights + alpha * dataMatrix.transpose() * error # 使用误差、步长、原系数计算新的回归系数\n",
    "        break\n",
    "    return weights, sum(error.getA())"
   ]
  },
  {
   "cell_type": "code",
   "execution_count": 61,
   "metadata": {},
   "outputs": [
    {
     "name": "stdout",
     "output_type": "stream",
     "text": [
      "data transpose: (100, 3)\n",
      "error: (100, 1)\n",
      "data transpose*error: (3, 1)\n",
      "(matrix([[ 0.96358575],\n",
      "        [ 0.98285296],\n",
      "        [ 0.48828325]]), -36.414253313079314)\n"
     ]
    }
   ],
   "source": [
    "dataMat, labelMat = loadDataSet()\n",
    "print grandAscent(dataMat, labelMat, maxCycles=100)"
   ]
  },
  {
   "cell_type": "code",
   "execution_count": 62,
   "metadata": {},
   "outputs": [
    {
     "name": "stdout",
     "output_type": "stream",
     "text": [
      "[[1 2 3]\n",
      " [1 2 3]\n",
      " [4 5 6]\n",
      " [4 5 6]\n",
      " [7 8 9]\n",
      " [7 8 9]] (6, 3)\n",
      "[[1]\n",
      " [2]\n",
      " [3]\n",
      " [4]\n",
      " [5]\n",
      " [6]] (6, 1)\n"
     ]
    },
    {
     "ename": "ValueError",
     "evalue": "operands could not be broadcast together with shapes (3,6) (6,1) ",
     "output_type": "error",
     "traceback": [
      "\u001b[0;31m---------------------------------------------------------------------------\u001b[0m",
      "\u001b[0;31mValueError\u001b[0m                                Traceback (most recent call last)",
      "\u001b[0;32m<ipython-input-62-7890da8e0aa5>\u001b[0m in \u001b[0;36m<module>\u001b[0;34m()\u001b[0m\n\u001b[1;32m      4\u001b[0m \u001b[0ma\u001b[0m \u001b[0;34m=\u001b[0m \u001b[0marray\u001b[0m\u001b[0;34m(\u001b[0m\u001b[0;34m[\u001b[0m\u001b[0;34m[\u001b[0m\u001b[0;36m1\u001b[0m\u001b[0;34m,\u001b[0m\u001b[0;34m]\u001b[0m\u001b[0;34m,\u001b[0m\u001b[0;34m[\u001b[0m\u001b[0;36m2\u001b[0m\u001b[0;34m,\u001b[0m\u001b[0;34m]\u001b[0m\u001b[0;34m,\u001b[0m\u001b[0;34m[\u001b[0m\u001b[0;36m3\u001b[0m\u001b[0;34m,\u001b[0m\u001b[0;34m]\u001b[0m\u001b[0;34m,\u001b[0m\u001b[0;34m[\u001b[0m\u001b[0;36m4\u001b[0m\u001b[0;34m,\u001b[0m\u001b[0;34m]\u001b[0m\u001b[0;34m,\u001b[0m\u001b[0;34m[\u001b[0m\u001b[0;36m5\u001b[0m\u001b[0;34m,\u001b[0m\u001b[0;34m]\u001b[0m\u001b[0;34m,\u001b[0m\u001b[0;34m[\u001b[0m\u001b[0;36m6\u001b[0m\u001b[0;34m,\u001b[0m\u001b[0;34m]\u001b[0m\u001b[0;34m]\u001b[0m\u001b[0;34m)\u001b[0m \u001b[0;31m# 6行一列\u001b[0m\u001b[0;34m\u001b[0m\u001b[0m\n\u001b[1;32m      5\u001b[0m \u001b[0;32mprint\u001b[0m \u001b[0ma\u001b[0m\u001b[0;34m,\u001b[0m \u001b[0ma\u001b[0m\u001b[0;34m.\u001b[0m\u001b[0mshape\u001b[0m\u001b[0;34m\u001b[0m\u001b[0m\n\u001b[0;32m----> 6\u001b[0;31m \u001b[0;32mprint\u001b[0m \u001b[0mb\u001b[0m\u001b[0;34m.\u001b[0m\u001b[0mtranspose\u001b[0m\u001b[0;34m(\u001b[0m\u001b[0;34m)\u001b[0m\u001b[0;34m*\u001b[0m\u001b[0ma\u001b[0m\u001b[0;34m\u001b[0m\u001b[0m\n\u001b[0m",
      "\u001b[0;31mValueError\u001b[0m: operands could not be broadcast together with shapes (3,6) (6,1) "
     ]
    }
   ],
   "source": [
    "b = array([[1,2,3,1,2,3],[4,5,6,4,5,6],[7,8,9,7,8,9]]) # 三行6列\n",
    "b = array([[1,2,3],[1,2,3],[4,5,6],[4,5,6],[7,8,9],[7,8,9]])\n",
    "print b, b.shape\n",
    "a = array([[1,],[2,],[3,],[4,],[5,],[6,]]) # 6行一列\n",
    "print a, a.shape\n",
    "print b.transpose()*a"
   ]
  },
  {
   "cell_type": "code",
   "execution_count": 38,
   "metadata": {},
   "outputs": [
    {
     "name": "stdout",
     "output_type": "stream",
     "text": [
      "[[ 1.1  1.4]\n",
      " [ 2.4  3. ]\n",
      " [ 3.9  4.8]]\n"
     ]
    }
   ],
   "source": [
    "print array([[1],[2],[3]])+(a*b*0.1)"
   ]
  },
  {
   "cell_type": "code",
   "execution_count": 6,
   "metadata": {},
   "outputs": [
    {
     "name": "stdout",
     "output_type": "stream",
     "text": [
      "(matrix([[ 4.12414349],\n",
      "        [ 0.48007329],\n",
      "        [-0.6168482 ]]), 3.4320338464523723)\n"
     ]
    }
   ],
   "source": [
    "dataMat, labelMat = loadDataSet()\n",
    "print grandAscent(dataMat, labelMat, maxCycles=500)"
   ]
  },
  {
   "cell_type": "code",
   "execution_count": 7,
   "metadata": {},
   "outputs": [
    {
     "name": "stdout",
     "output_type": "stream",
     "text": [
      "(matrix([[ 5.43822336],\n",
      "        [ 0.58605575],\n",
      "        [-0.78334895]]), 2.0743300702193626)\n"
     ]
    }
   ],
   "source": [
    "dataMat, labelMat = loadDataSet()\n",
    "print grandAscent(dataMat, labelMat, maxCycles=1000)"
   ]
  },
  {
   "cell_type": "markdown",
   "metadata": {},
   "source": [
    "可以看到，输出了三个特征（包括方便计算加入的X0特征）各自对应的最佳回归系数，有了这三个系数，那么任意一个输入的数据点，都可以马上得到对应的分类估计值；"
   ]
  },
  {
   "cell_type": "markdown",
   "metadata": {},
   "source": [
    "### 分析数据：画出决策边界"
   ]
  },
  {
   "cell_type": "code",
   "execution_count": 8,
   "metadata": {},
   "outputs": [],
   "source": [
    "# 绘制最佳拟合直线\n",
    "def plotBestFitLine(weights):\n",
    "    dataMat, labelMat = loadDataSet()\n",
    "    dataArr = array(dataMat)\n",
    "    n = shape(dataMat)[0] # 高\n",
    "    xcord1, ycord1, xcord0, ycord0 = [], [], [], []\n",
    "    for i in range(n):\n",
    "        if int(labelMat[i]) == 1:\n",
    "            xcord1.append(dataArr[i][1])\n",
    "            ycord1.append(dataArr[i][2])\n",
    "        else:\n",
    "            xcord0.append(dataArr[i][1])\n",
    "            ycord0.append(dataArr[i][2])\n",
    "    fig = plt.figure()\n",
    "    ax = fig.add_subplot(111)\n",
    "    ax.scatter(xcord1, ycord1, s=30, c='red', marker='s')\n",
    "    ax.scatter(xcord0, ycord0, s=30, c='green')\n",
    "    x = arange(-3.0, 3.0, 0.1)\n",
    "    y = (-weights[0] - weights[1]*x)/weights[2] # 根据已经的回归系数、x、X0，求y\n",
    "    ax.plot(x, y)\n",
    "    plt.xlabel('X1')\n",
    "    plt.ylabel('X2')\n",
    "    plt.show()"
   ]
  },
  {
   "cell_type": "code",
   "execution_count": 9,
   "metadata": {},
   "outputs": [
    {
     "data": {
      "image/png": "[encoded data removed]",
      "text/plain": [
       "<matplotlib.figure.Figure at 0x7f7e7e8c4550>"
      ]
     },
     "metadata": {
      "needs_background": "light"
     },
     "output_type": "display_data"
    }
   ],
   "source": [
    "plotBestFitLine(grandAscent(dataMat, labelMat, maxCycles=10)[0].getA())"
   ]
  },
  {
   "cell_type": "code",
   "execution_count": 10,
   "metadata": {},
   "outputs": [
    {
     "data": {
      "image/png": "[encoded data removed]",
      "text/plain": [
       "<matplotlib.figure.Figure at 0x7f7e7b2c55d0>"
      ]
     },
     "metadata": {
      "needs_background": "light"
     },
     "output_type": "display_data"
    }
   ],
   "source": [
    "plotBestFitLine(grandAscent(dataMat, labelMat, maxCycles=1000)[0].getA())"
   ]
  },
  {
   "cell_type": "markdown",
   "metadata": {},
   "source": [
    "可以直观的看到，在1000次的迭代次数下得到的回归系数绘制的拟合直线，明显要优于迭代次数在10次下的情况；"
   ]
  },
  {
   "cell_type": "code",
   "execution_count": 11,
   "metadata": {},
   "outputs": [
    {
     "data": {
      "image/png": "[encoded data removed]",
      "text/plain": [
       "<matplotlib.figure.Figure at 0x7f7ea01c35d0>"
      ]
     },
     "metadata": {
      "needs_background": "light"
     },
     "output_type": "display_data"
    }
   ],
   "source": [
    "plotBestFitLine(grandAscent(dataMat, labelMat, maxCycles=100000)[0].getA())"
   ]
  },
  {
   "cell_type": "markdown",
   "metadata": {},
   "source": [
    "而在100000次迭代下，效果反而不如1000次，这里是达到了算法的极限，直观看到，数据分布是不完全线性可分的，只是接近，因此不算迭代多少次，这都是必然的，观察weights在1000~10000这段的变化应该可以看到，weights在反复重复，因为error永远不是0，因此也就是一直在根据step修正weights，这里由于step已经比较小了，就没必要减少step，否则通常的调参过程最后会调小学习率来更好的拟合分类数据；"
   ]
  },
  {
   "cell_type": "markdown",
   "metadata": {},
   "source": [
    "### 训练算法：随机梯度上升\n",
    "\n",
    "重点：随机；\n",
    "\n",
    "梯度上升在每次迭代的时候，都需要遍历整个数据集（即sigmoid的计算，是计算了整个数据集的），这种方式在数据量小时时间、空间成本还能接受，但是在数据量几十上百万时，每次迭代都会花费大量的时间、空间，而**随机**梯度上升的思路是每次迭代随机选择一个样本来计算误差并更新weights，因此训练成本降低了一个维度（只受限于最大迭代次数，而与数据量无关），且由于这一特点，使得随机梯度上升算法成为**在线学习**（即新数据的动态加入有可能会对迭代结果有影响），与之对应的是一次处理所有数据的**批处理**；"
   ]
  },
  {
   "cell_type": "code",
   "execution_count": 12,
   "metadata": {},
   "outputs": [
    {
     "data": {
      "image/png": "[encoded data removed]",
      "text/plain": [
       "<matplotlib.figure.Figure at 0x7f7e7b19d790>"
      ]
     },
     "metadata": {
      "needs_background": "light"
     },
     "output_type": "display_data"
    }
   ],
   "source": [
    "def randGrandAscent(dataMatIn, classLabels, alpha=0.001, maxCycles=500):\n",
    "    dataMatrix = array(dataMatIn) # 注意此处跟下面的处理\n",
    "    labelMatrix = classLabels\n",
    "    m,n = shape(dataMatrix)\n",
    "    _alpha = alpha\n",
    "    _maxCycles = maxCycles\n",
    "    weights = ones(n)\n",
    "    error = None\n",
    "    for i in range(m):\n",
    "        h = sigmoid(sum(dataMatrix[i]*weights))\n",
    "        error = labelMatrix[i] - h\n",
    "        weights = weights + alpha * dataMatrix[i] * error\n",
    "    return weights, error\n",
    "\n",
    "plotBestFitLine(randGrandAscent(dataMat, labelMat)[0])"
   ]
  },
  {
   "cell_type": "markdown",
   "metadata": {},
   "source": [
    "可以看到，直接使用一次迭代的随机梯度上升，结果有点惨不忍睹，这是因为整体的训练次数很少导致的，进行适当的随机优化后效果会好很多；"
   ]
  },
  {
   "cell_type": "code",
   "execution_count": 23,
   "metadata": {},
   "outputs": [
    {
     "data": {
      "image/png": "[encoded data removed]",
      "text/plain": [
       "<matplotlib.figure.Figure at 0x7f7e7ae3e8d0>"
      ]
     },
     "metadata": {
      "needs_background": "light"
     },
     "output_type": "display_data"
    }
   ],
   "source": [
    "# 优化随机梯度上升算法，多次迭代训练\n",
    "def randGrandAscent(dataMatIn, classLabels, alpha=0.01, maxCycles=200):\n",
    "    dataMatrix = array(dataMatIn) # 注意此处跟下面的处理\n",
    "    labelMatrix = classLabels\n",
    "    m,n = shape(dataMatrix)\n",
    "    weights = ones(n)\n",
    "    error = None\n",
    "    for i in range(maxCycles):\n",
    "        rangeIndex = range(m)\n",
    "        for j in range(m):\n",
    "            # 改进1：alpha的动态调整\n",
    "            _alpha = 4 / (1.0 + j + i) + alpha\n",
    "            # 改进2：随机取样本点\n",
    "            index = int(random.uniform(0, len(rangeIndex)))\n",
    "            h = sigmoid(sum(dataMatrix[rangeIndex[index]]*weights))\n",
    "            error = labelMatrix[rangeIndex[index]] - h\n",
    "            weights = weights + _alpha * dataMatrix[rangeIndex[index]] * error # 此处的+号，表示这是一个上升算法，GD是-\n",
    "            del rangeIndex[index]\n",
    "    return weights, error\n",
    "\n",
    "plotBestFitLine(randGrandAscent(dataMat, labelMat)[0])"
   ]
  },
  {
   "cell_type": "markdown",
   "metadata": {},
   "source": [
    "注意上述的两点优化：\n",
    "1. alpha动态调整，通过训练的i和j，持续降低alpha，加快收敛速度的同时，有0.01的保证，确保了alpha的下限；\n",
    "2. 随机取样，避免的训练的周期性波动；"
   ]
  },
  {
   "cell_type": "markdown",
   "metadata": {},
   "source": [
    "## 示例：从疝气病症预测病马的死亡率"
   ]
  },
  {
   "cell_type": "markdown",
   "metadata": {},
   "source": [
    "### 准备数据：处理数据中的缺失值\n",
    "\n",
    "集中常见办法：\n",
    "* 丢弃；\n",
    "* 某种统计值填充；\n",
    "* 时间序列数据通过前后数据填充；\n",
    "* 提取成另一个独立特征；\n",
    "* 删掉有缺失的样本；\n",
    "\n",
    "基于GA的特点，此处采用0来填充缺失值，原因如下：\n",
    "* sigmoid(0)=0.5，即不具有任何倾向性；\n",
    "* 当0为特征值时，它在更新系数时不起任何作用；\n",
    "* 通常特征值不为0，因此可以说0是一种特殊值；\n",
    "\n",
    "如果是类别标签丢失，如何处理：对于LR，直接丢弃是可行的，而对于kNN，则是不太可行的（？？？）；"
   ]
  },
  {
   "cell_type": "markdown",
   "metadata": {},
   "source": [
    "### 测试算法：用LR进行分类"
   ]
  },
  {
   "cell_type": "code",
   "execution_count": 14,
   "metadata": {},
   "outputs": [],
   "source": [
    "# 分类函数\n",
    "def classifyVector(inX, weights):\n",
    "    return 1.0 if sigmoid(sum(inX*weights)) else 0.0"
   ]
  },
  {
   "cell_type": "code",
   "execution_count": 15,
   "metadata": {},
   "outputs": [
    {
     "name": "stderr",
     "output_type": "stream",
     "text": [
      "/home/kael/Software/anaconda2/envs/python2/lib/python2.7/site-packages/ipykernel_launcher.py:3: RuntimeWarning: overflow encountered in exp\n",
      "  This is separate from the ipykernel package so we can avoid doing imports until\n"
     ]
    },
    {
     "name": "stdout",
     "output_type": "stream",
     "text": [
      "0.0\n",
      "The error rate is:0.298507\n"
     ]
    },
    {
     "data": {
      "text/plain": [
       "0.29850746268656714"
      ]
     },
     "execution_count": 15,
     "metadata": {},
     "output_type": "execute_result"
    }
   ],
   "source": [
    "# 测试函数\n",
    "def colicTest(alpha=0.01, numIter=200):\n",
    "    # 加载训练数据\n",
    "    trainSet, trainLabels = [], []\n",
    "    with open(dataPath+'horseColicTraining.txt') as trainFile:\n",
    "        for line in trainFile.readlines():\n",
    "            words = line.strip().split()\n",
    "            wordList = [float(words[i])for i in range(len(words)-1)]\n",
    "            trainSet.append(wordList)\n",
    "            trainLabels.append(float(words[len(words)-1]))\n",
    "    # 计算训练数据的最佳回归系数\n",
    "    trainWeights, trainError = randGrandAscent(trainSet, trainLabels, alpha=alpha, maxCycles=numIter)\n",
    "    errorCount, numTestVec = 0, 0.0\n",
    "    with open(dataPath+'horseColicTest.txt') as testFile:\n",
    "        for line in testFile.readlines():\n",
    "            numTestVec+=1\n",
    "            words = line.strip().split()\n",
    "            wordList = [float(words[i])for i in range(len(words)-1)]\n",
    "            if classifyVector(wordList, trainWeights) != float(words[len(words)-1]):\n",
    "                errorCount+=1\n",
    "    print 'The error rate is:%f' % (errorCount/numTestVec)\n",
    "    return (errorCount/numTestVec)\n",
    "colicTest(alpha=0.001, numIter=500)"
   ]
  },
  {
   "cell_type": "code",
   "execution_count": 27,
   "metadata": {},
   "outputs": [
    {
     "name": "stdout",
     "output_type": "stream",
     "text": [
      "The error rate is:0.298507\n",
      "The error rate is:0.313433\n",
      "The error rate is:0.298507\n",
      "The error rate is:0.298507\n",
      "The error rate is:0.283582\n",
      "Average error rate is:0.298507\n"
     ]
    },
    {
     "name": "stderr",
     "output_type": "stream",
     "text": [
      "/home/kael/Software/anaconda2/envs/python2/lib/python2.7/site-packages/ipykernel_launcher.py:3: RuntimeWarning: overflow encountered in exp\n",
      "  This is separate from the ipykernel package so we can avoid doing imports until\n"
     ]
    }
   ],
   "source": [
    "def multiTest(times=10):\n",
    "    numError = 0.0\n",
    "    for i in range(times):\n",
    "        numError+=colicTest(alpha=0.01, numIter=5)\n",
    "    print 'Average error rate is:%f' % (numError/times)\n",
    "    \n",
    "multiTest(times=5)"
   ]
  },
  {
   "cell_type": "markdown",
   "metadata": {},
   "source": [
    "可以看到，迭代次数少的时候（比如numIter为5），多次训练的测试结果是不一致的，这就表面算法还没有收敛到一个最优；"
   ]
  },
  {
   "cell_type": "markdown",
   "metadata": {},
   "source": [
    "## 小结\n",
    "\n",
    "LR的目的是寻找一个非线性函数Sigmoid的最佳拟合参数，这个过程可以由最优化算法完成，常用的有梯度上升法，又可以简化为随机梯度上升法，效果相当，速度更快，且随机梯度上升是一种在线学习方法，在新数据到来时，可以直接使用，而不需要重新加载整个数据集；"
   ]
  }
 ],
 "metadata": {
  "kernelspec": {
   "display_name": "Python 2",
   "language": "python",
   "name": "python2"
  },
  "language_info": {
   "codemirror_mode": {
    "name": "ipython",
    "version": 2
   },
   "file_extension": ".py",
   "mimetype": "text/x-python",
   "name": "python",
   "nbconvert_exporter": "python",
   "pygments_lexer": "ipython2",
   "version": "2.7.13"
  },
  "toc": {
   "nav_menu": {},
   "number_sections": true,
   "sideBar": true,
   "skip_h1_title": false,
   "title_cell": "Table of Contents",
   "title_sidebar": "Contents",
   "toc_cell": false,
   "toc_position": {},
   "toc_section_display": true,
   "toc_window_display": false
  }
 },
 "nbformat": 4,
 "nbformat_minor": 2
}
