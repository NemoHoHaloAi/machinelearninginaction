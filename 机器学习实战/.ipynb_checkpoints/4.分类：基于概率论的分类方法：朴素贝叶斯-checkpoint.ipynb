{
 "cells": [
  {
   "cell_type": "markdown",
   "metadata": {},
   "source": [
    "# 基于概率论的分类方法：朴素贝叶斯"
   ]
  },
  {
   "cell_type": "markdown",
   "metadata": {},
   "source": [
    "## 基于贝叶斯决策理论的分类方法\n",
    "朴素贝叶斯\n",
    "\n",
    "* 优点:在数据较少的情况下仍然有效,可以处理多类别问题。\n",
    "* 缺点:对于输入数据的准备方式较为敏感。\n",
    "* 适用数据类型:标称型数据。\n",
    "\n",
    "假设有两个概率分布的数据类别A，B，我们已知二者的统计参数，pA(x,y)表示数据点x,y属于类别A的概率，pB(x,y)表示数据点属于类别B的概率，那么当pA>pB时，我们认为该数据点为A类，反之为B类，这就是朴素贝叶斯分类的基础思想；"
   ]
  },
  {
   "cell_type": "markdown",
   "metadata": {},
   "source": [
    "## 条件概率"
   ]
  },
  {
   "cell_type": "markdown",
   "metadata": {},
   "source": [
    "问题：假设有7块石头，3块是灰色的，4块是黑色的，那么取到灰色石头的概率就是3/7，黑色的则为4/7，这很简单，但是如果7块石头是分别放在两个桶中的呢，其中A桶有2块灰色、2块黑色，B桶有1块灰色、2块黑色，那么此时取到灰色石头概率怎么计算呢？\n",
    "\n",
    "    计算方法1：\n",
    "    p(灰色|桶A) = p(灰色 and 桶A)/p(桶A) = (2/7)/(4/7) = 1/2\n",
    "    p(灰色|桶B) = p(灰色 and 桶B)/p(桶B) = (1/7)/(3/7) = 1/3\n",
    "    计算方法2-贝叶斯方法：\n",
    "    已知p(x|y)求p(y|x)可以通过以下公式：\n",
    "    p(x|y)=((p(y|x)*p(x))/(p(y))"
   ]
  },
  {
   "cell_type": "markdown",
   "metadata": {},
   "source": [
    "## 使用条件概率来分类"
   ]
  },
  {
   "cell_type": "markdown",
   "metadata": {},
   "source": [
    "通常指的是以下的方式：\n",
    "    \n",
    "    p(c1|x,y,z...) > p(c2|x,y,z...) 时，判断为类别1\n",
    "    p(c1|x,y,z...) < p(c2|x,y,z...) 时，判断为类别2\n",
    "    \n",
    "    而p(c|x,y,z...)可以由贝叶斯公式由其他三个概率求得p(x,y,z...|c)*p(c)/p(x,y,z...)"
   ]
  },
  {
   "cell_type": "markdown",
   "metadata": {},
   "source": [
    "## 使用朴素贝叶斯进行文档分类"
   ]
  },
  {
   "cell_type": "markdown",
   "metadata": {},
   "source": [
    "文档分类最简单的方式就是将每个单词的出现与否作为一个特征，这样我们就会得到一个跟词汇表中单词个数一样多的特征数量，这个是非常庞大的，而我们直到根据维度灾难，训练所需数据是呈指数上升的，假设有1000个单词特征，也就需要N^1000的数据量，这个是非常庞大的一个数值，但是如果我们假设特征独立，那么就只需要1000\\*N就可以了，这个至少还在可控范围内，这个假设在文档分类中的表现就是它假设每个单词的出现与其他单词没有关系，当然我们直到这个其实是不太合理的，比如I通常会跟着am一起出现，这也就是朴素的由来，另一个朴素贝叶斯的假设是每个特征的权重一致，当然这一点严格讲也不太合理；"
   ]
  },
  {
   "cell_type": "markdown",
   "metadata": {},
   "source": [
    "## 使用python进行分类"
   ]
  },
  {
   "cell_type": "markdown",
   "metadata": {},
   "source": [
    "### 准备数据：从文本转换成词向量"
   ]
  },
  {
   "cell_type": "code",
   "execution_count": null,
   "metadata": {},
   "outputs": [],
   "source": []
  }
 ],
 "metadata": {
  "kernelspec": {
   "display_name": "Python 2",
   "language": "python",
   "name": "python2"
  },
  "language_info": {
   "codemirror_mode": {
    "name": "ipython",
    "version": 2
   },
   "file_extension": ".py",
   "mimetype": "text/x-python",
   "name": "python",
   "nbconvert_exporter": "python",
   "pygments_lexer": "ipython2",
   "version": "2.7.13"
  },
  "toc": {
   "nav_menu": {},
   "number_sections": true,
   "sideBar": true,
   "skip_h1_title": false,
   "title_cell": "Table of Contents",
   "title_sidebar": "Contents",
   "toc_cell": false,
   "toc_position": {},
   "toc_section_display": true,
   "toc_window_display": true
  }
 },
 "nbformat": 4,
 "nbformat_minor": 2
}
