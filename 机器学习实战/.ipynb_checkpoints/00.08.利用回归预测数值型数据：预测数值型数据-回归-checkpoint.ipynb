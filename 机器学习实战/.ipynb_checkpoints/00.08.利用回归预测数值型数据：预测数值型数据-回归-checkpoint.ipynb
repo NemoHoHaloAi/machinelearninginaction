{
 "cells": [
  {
   "cell_type": "markdown",
   "metadata": {},
   "source": [
    "# 回归\n",
    "\n",
    "所谓回归既是预测连续型数值，反之既是对应标称型数据的分类；"
   ]
  },
  {
   "cell_type": "code",
   "execution_count": 3,
   "metadata": {},
   "outputs": [],
   "source": [
    "from numpy import *\n",
    "\n",
    "import matplotlib.pyplot as plt\n",
    "\n",
    "%matplotlib inline\n",
    "\n",
    "dataPath = '../../../git_mlaction/machinelearninginaction/Ch08/'"
   ]
  },
  {
   "cell_type": "markdown",
   "metadata": {},
   "source": [
    "## 用线性回归找到最佳拟合直线\n",
    "\n",
    "回归通常指线性回归，即每个特征值乘以相应的回归系数再相加，和既是预测的连续值，而求回归系数的过程即称之为回归，当然回归也有非线性的回归；\n",
    "\n",
    "线性回归：\n",
    "* 优点：结果易于理解，计算上不复杂；\n",
    "* 缺点：对非线性数据拟合不好；\n",
    "* 适用数据类型：数值型和标称型；\n",
    "\n",
    "所谓拟合直线，即用一条直线（决策平面？？？）尽可能多的经过所有数据点，所谓预测就是将输入带入直线的方程，得到输出；\n",
    "\n",
    "所谓“回归”过程，即是求最小误差的过程，因此又是一个最优问题（之前遇到过LR，使用GA和随机GA解决），这里我们使用OLS（普通最小二乘法）来解决；"
   ]
  },
  {
   "cell_type": "code",
   "execution_count": 4,
   "metadata": {},
   "outputs": [],
   "source": [
    "# 加载数据\n",
    "def loadDataSet(fn = dataPath+'ex0.txt'):\n",
    "    dataArr, labelArr = [], []\n",
    "    with open(fn) as f:\n",
    "        for line in f.readlines():\n",
    "            features = line.strip().split('\\t')\n",
    "            dataArr.append([float(features[i]) for i in range(len(features)-1)])\n",
    "            labelArr.append(float(features[-1]))\n",
    "    return dataArr, labelArr\n",
    "\n",
    "xArr, yArr = loadDataSet()"
   ]
  },
  {
   "cell_type": "code",
   "execution_count": 16,
   "metadata": {},
   "outputs": [
    {
     "data": {
      "text/plain": [
       "<matplotlib.collections.PathCollection at 0x7fcb3e152dd0>"
      ]
     },
     "execution_count": 16,
     "metadata": {},
     "output_type": "execute_result"
    },
    {
     "data": {
      "image/png": "[encoded data removed]",
      "text/plain": [
       "<matplotlib.figure.Figure at 0x7fcb3e1fe850>"
      ]
     },
     "metadata": {
      "needs_background": "light"
     },
     "output_type": "display_data"
    }
   ],
   "source": [
    "plt.scatter(array(xArr)[:,1], array(yArr))"
   ]
  },
  {
   "cell_type": "code",
   "execution_count": 17,
   "metadata": {},
   "outputs": [],
   "source": [
    "# 计算最佳拟合直线，利用OLS公式\n",
    "def standRegres(xArr, yArr):\n",
    "    xMat, yMat = mat(xArr), mat(yArr).T\n",
    "    xTx = xMat.T * xMat\n",
    "    if linalg.det(xTx) == 0.0: # 判断矩阵是否有逆\n",
    "        print 'This matrix is singular, cannot do inverse.'\n",
    "        return\n",
    "    return xTx.I * xMat.T * yMat"
   ]
  },
  {
   "cell_type": "code",
   "execution_count": 18,
   "metadata": {},
   "outputs": [
    {
     "data": {
      "text/plain": [
       "matrix([[ 3.00774324],\n",
       "        [ 1.69532264]])"
      ]
     },
     "execution_count": 18,
     "metadata": {},
     "output_type": "execute_result"
    }
   ],
   "source": [
    "ws = standRegres(xArr, yArr)\n",
    "ws"
   ]
  },
  {
   "cell_type": "code",
   "execution_count": 20,
   "metadata": {},
   "outputs": [
    {
     "data": {
      "text/plain": [
       "[<matplotlib.lines.Line2D at 0x7fcb3e4cf7d0>]"
      ]
     },
     "execution_count": 20,
     "metadata": {},
     "output_type": "execute_result"
    },
    {
     "data": {
      "image/png": "[encoded data removed]",
      "text/plain": [
       "<matplotlib.figure.Figure at 0x7fcb3a4e1cd0>"
      ]
     },
     "metadata": {
      "needs_background": "light"
     },
     "output_type": "display_data"
    }
   ],
   "source": [
    "plt.scatter(array(xArr)[:,1], array(yArr))\n",
    "xArrCopy = mat(xArr).copy()\n",
    "xArrCopy.sort(0)\n",
    "yHat = xArrCopy*ws\n",
    "plt.plot(xArrCopy[:,1], yHat, c='r')"
   ]
  },
  {
   "cell_type": "markdown",
   "metadata": {},
   "source": [
    "可以看到，简单的OLS，即得到了看起来相当不错的结果，如果要评估拟合的好坏，可以通过计算yHat和yMat的相关系数（corr）来观察结果；"
   ]
  },
  {
   "cell_type": "markdown",
   "metadata": {},
   "source": [
    "## 局部加权线性回归 - LWLR\n",
    "\n",
    "可以看到线性回归的一个问题是会导致欠拟合，原因是它求得是具有**最小均方误差的无偏估计**，实际数据大部分都不是严格符合线性的，因此有些方法允许引入一些偏差，来降低预测的误差；\n",
    "\n",
    "所谓**局部加权**的意思是说在**训练前**，通过利用**高斯核**，并设置**k**值，来对原始数据的计算一个对应的权重矩阵，距离预测点的已知特征（比如输入特征为x）越近的点会得到越大的权重，通过公式可知，k越大，最终使用的数据越多，k越小，训练使用的数据越少；\n",
    "\n",
    "因此LWLR类似kNN的，没有训练过程，每次预测都是基于选择的训练数据集预测的；\n",
    "\n",
    "懂了：所谓k值计算的权重，其实就是说在对预测点进行预测时，所利用的数据是哪些，假如k为1.0，那么就是说对于任何点预测，都是利用所有数据，且权重一致，当k为0.03时，就更加多的利用最考虑预测点的数据，而弱化远处的点在预测中起到的作用，因此当k太小时，会过拟合，而太大时，会欠拟合；"
   ]
  },
  {
   "cell_type": "code",
   "execution_count": 52,
   "metadata": {},
   "outputs": [],
   "source": [
    "# lwlr实现，相对于直接用OLS，多了计算权重对角矩阵，已经应用该矩阵的步骤\n",
    "def lwlr(testPoint, xArr, yArr, k=1.0):\n",
    "    xMat, yMat = mat(xArr), mat(yArr).T\n",
    "    xTx = xMat.T * xMat\n",
    "    # 计算对角矩阵\n",
    "    weights = mat(eye((shape(xMat)[0])))\n",
    "    for i in range(shape(xMat)[0]):\n",
    "        diffMat = testPoint - xMat[i,:] # 计算测试点与其他数据点的距离\n",
    "        weights[i,i] = exp((diffMat*diffMat.T)/(-2*k**2))\n",
    "    if linalg.det(xTx) == 0.0: # 判断矩阵是否有逆\n",
    "        print 'This matrix is singular, cannot do inverse.'\n",
    "        return\n",
    "    return testPoint * ((xMat.T * weights * xMat).I * xMat.T * weights * yMat)"
   ]
  },
  {
   "cell_type": "code",
   "execution_count": 53,
   "metadata": {},
   "outputs": [],
   "source": [
    "def lwlrTest(testArr, xArr, yArr, k=1.0):\n",
    "    m = shape(testArr)[0]\n",
    "    yHat = zeros(m)\n",
    "    for i in range(m):\n",
    "        yHat[i] = lwlr(testArr[i], xArr, yArr, k)\n",
    "    return yHat"
   ]
  },
  {
   "cell_type": "code",
   "execution_count": 74,
   "metadata": {},
   "outputs": [
    {
     "name": "stdout",
     "output_type": "stream",
     "text": [
      "[ 3.03242227  3.03329674  3.06462993  3.07220096  3.07586196]\n",
      "[ 3.11235688  3.11264708  3.12383051  3.1268014   3.12828104]\n",
      "[ 3.07973692  3.08317818  3.14621321  3.14158405  3.14531314]\n"
     ]
    }
   ],
   "source": [
    "xArr, yArr = loadDataSet()\n",
    "xArrCopy = mat(xArr).copy()\n",
    "xArrCopy.sort(0)\n",
    "\n",
    "yHat_1 = lwlrTest(xArrCopy, xArr, yArr)\n",
    "yHat_2 = lwlrTest(xArrCopy, xArr, yArr, k=0.5)\n",
    "yHat_3 = lwlrTest(xArrCopy, xArr, yArr, k=0.25)\n",
    "yHat_4 = lwlrTest(xArrCopy, xArr, yArr, k=0.1)\n",
    "yHat_5 = lwlrTest(xArrCopy, xArr, yArr, k=0.05)\n",
    "yHat_6 = lwlrTest(xArrCopy, xArr, yArr, k=0.025)\n",
    "yHat_7 = lwlrTest(xArrCopy, xArr, yArr, k=0.005)\n",
    "print(yHat_1[:5])\n",
    "print(yHat_4[:5])\n",
    "print(yHat_7[:5])"
   ]
  },
  {
   "cell_type": "code",
   "execution_count": 76,
   "metadata": {},
   "outputs": [
    {
     "data": {
      "text/plain": [
       "[<matplotlib.lines.Line2D at 0x7fcb33f94e10>]"
      ]
     },
     "execution_count": 76,
     "metadata": {},
     "output_type": "execute_result"
    },
    {
     "data": {
      "image/png": "[encoded data removed]",
      "text/plain": [
       "<matplotlib.figure.Figure at 0x7fcb33f94c10>"
      ]
     },
     "metadata": {
      "needs_background": "light"
     },
     "output_type": "display_data"
    }
   ],
   "source": [
    "plt.scatter(array(xArr)[:,1], array(yArr))\n",
    "plt.plot(xArrCopy[:,1], yHat_1, c='r')"
   ]
  },
  {
   "cell_type": "code",
   "execution_count": 77,
   "metadata": {},
   "outputs": [
    {
     "data": {
      "text/plain": [
       "[<matplotlib.lines.Line2D at 0x7fcb33f27050>]"
      ]
     },
     "execution_count": 77,
     "metadata": {},
     "output_type": "execute_result"
    },
    {
     "data": {
      "image/png": "[encoded data removed]",
      "text/plain": [
       "<matplotlib.figure.Figure at 0x7fcb33f27150>"
      ]
     },
     "metadata": {
      "needs_background": "light"
     },
     "output_type": "display_data"
    }
   ],
   "source": [
    "plt.scatter(array(xArr)[:,1], array(yArr))\n",
    "plt.plot(xArrCopy[:,1], yHat_6, c='r')"
   ]
  },
  {
   "cell_type": "code",
   "execution_count": 78,
   "metadata": {},
   "outputs": [
    {
     "data": {
      "text/plain": [
       "[<matplotlib.lines.Line2D at 0x7fcb33e91810>]"
      ]
     },
     "execution_count": 78,
     "metadata": {},
     "output_type": "execute_result"
    },
    {
     "data": {
      "image/png": "[encoded data removed]",
      "text/plain": [
       "<matplotlib.figure.Figure at 0x7fcb33e91850>"
      ]
     },
     "metadata": {
      "needs_background": "light"
     },
     "output_type": "display_data"
    }
   ],
   "source": [
    "plt.scatter(array(xArr)[:,1], array(yArr))\n",
    "plt.plot(xArrCopy[:,1], yHat_7, c='r')"
   ]
  },
  {
   "cell_type": "markdown",
   "metadata": {},
   "source": [
    "可以看到在k为0.025时，拟合线基本学习到了数据的模式，而在0.005时，则引入了太多噪声点，明显过拟合情况出现，同样的因为引入局部加权后，每次预测都要计算整个数据集，因此计算时间增加了，且如果设置k较小时，其实大部分数据点的权重都是0；"
   ]
  },
  {
   "cell_type": "markdown",
   "metadata": {},
   "source": [
    "## 示例：预测鲍鱼的年龄"
   ]
  },
  {
   "cell_type": "code",
   "execution_count": 79,
   "metadata": {},
   "outputs": [],
   "source": [
    "# 定义误差平方和函数统计误差\n",
    "def rssError(yAct, yHat):\n",
    "    return ((yHat - yAct)**2).sum()"
   ]
  },
  {
   "cell_type": "code",
   "execution_count": 80,
   "metadata": {},
   "outputs": [],
   "source": [
    "abX, abY = loadDataSet(fn=dataPath+'abalone.txt')"
   ]
  },
  {
   "cell_type": "code",
   "execution_count": 82,
   "metadata": {},
   "outputs": [
    {
     "name": "stdout",
     "output_type": "stream",
     "text": [
      "549.256123395\n",
      "543.816215484\n",
      "432.459782941\n",
      "338.455728008\n",
      "57.5914875352\n"
     ]
    }
   ],
   "source": [
    "print rssError(abY[0:100], lwlrTest(abX[0:100], abX[0:100], abY[0:100], 10))\n",
    "print rssError(abY[0:100], lwlrTest(abX[0:100], abX[0:100], abY[0:100], 5))\n",
    "print rssError(abY[0:100], lwlrTest(abX[0:100], abX[0:100], abY[0:100], 1))\n",
    "print rssError(abY[0:100], lwlrTest(abX[0:100], abX[0:100], abY[0:100], 0.5))\n",
    "print rssError(abY[0:100], lwlrTest(abX[0:100], abX[0:100], abY[0:100], 0.1))"
   ]
  },
  {
   "cell_type": "code",
   "execution_count": 83,
   "metadata": {},
   "outputs": [
    {
     "name": "stdout",
     "output_type": "stream",
     "text": [
      "522.024391426\n",
      "519.403143581\n",
      "577.080086879\n",
      "762.341383247\n",
      "40605.4873007\n"
     ]
    }
   ],
   "source": [
    "print rssError(abY[100:200], lwlrTest(abX[100:200], abX[0:100], abY[0:100], 10))\n",
    "print rssError(abY[100:200], lwlrTest(abX[100:200], abX[0:100], abY[0:100], 5))\n",
    "print rssError(abY[100:200], lwlrTest(abX[100:200], abX[0:100], abY[0:100], 1))\n",
    "print rssError(abY[100:200], lwlrTest(abX[100:200], abX[0:100], abY[0:100], 0.5))\n",
    "print rssError(abY[100:200], lwlrTest(abX[100:200], abX[0:100], abY[0:100], 0.1))"
   ]
  },
  {
   "cell_type": "markdown",
   "metadata": {},
   "source": [
    "可以看到，在训练集上，k越小，误差平方和越小，但是在测试集上，当k为5时，误差平方和最小，这就是因为k过小，导致了过拟合的情况；"
   ]
  },
  {
   "cell_type": "markdown",
   "metadata": {},
   "source": [
    "## 缩减系数来“理解”数据\n",
    "\n",
    "如果特征数比样本点还多，我们就无法使用线性回归来做预测，因为当n大于m时，输入矩阵求逆会有问题，因此需要对系数进行缩减：\n",
    "* 岭回归；\n",
    "* lasso、前向逐步回归；"
   ]
  },
  {
   "cell_type": "markdown",
   "metadata": {},
   "source": [
    "### 岭回归"
   ]
  },
  {
   "cell_type": "markdown",
   "metadata": {},
   "source": [
    "### lasso"
   ]
  },
  {
   "cell_type": "markdown",
   "metadata": {},
   "source": [
    "### 前向逐步回归"
   ]
  },
  {
   "cell_type": "markdown",
   "metadata": {},
   "source": [
    "## 权衡偏差和方差\n",
    "\n",
    "即学习曲线，理论上找到测试曲线的最低点对应的模型参数；"
   ]
  },
  {
   "cell_type": "markdown",
   "metadata": {},
   "source": [
    "## 示例：预测乐高玩具套装的价格"
   ]
  },
  {
   "cell_type": "markdown",
   "metadata": {},
   "source": [
    "## 小结\n",
    "\n",
    "与分类不同的是，回归算法预测的是连续值，因此它的指标通常使用误差平方和来表示，而使用线性回归，我们可以以一条直线来拟合数据，但是这通常有欠拟合问题，因此我们更常使用的是局部加权线性回归，通过设置k值，来指定具体预测点越近的数据是否具有越高的权重，当k很小时，只有预测点附近的部分点才在预测中生效，注意，k值太小会引入过多噪声，导致过拟合问题；\n",
    "\n",
    "当特征数多于样本数时，不能直接使用线性回归，而要通过缩减系数的方式，否则求逆过程会出问题，缩减的方式有很多种，比如岭回归、lasso、前向逐步回归等等；\n",
    "\n",
    "对于一个模型，应尽可能找到对应学习曲线中的测试误差最低点对应的模型参数；"
   ]
  }
 ],
 "metadata": {
  "kernelspec": {
   "display_name": "Python 2",
   "language": "python",
   "name": "python2"
  },
  "language_info": {
   "codemirror_mode": {
    "name": "ipython",
    "version": 2
   },
   "file_extension": ".py",
   "mimetype": "text/x-python",
   "name": "python",
   "nbconvert_exporter": "python",
   "pygments_lexer": "ipython2",
   "version": "2.7.13"
  },
  "toc": {
   "nav_menu": {},
   "number_sections": true,
   "sideBar": true,
   "skip_h1_title": false,
   "title_cell": "Table of Contents",
   "title_sidebar": "Contents",
   "toc_cell": false,
   "toc_position": {},
   "toc_section_display": true,
   "toc_window_display": false
  }
 },
 "nbformat": 4,
 "nbformat_minor": 2
}
