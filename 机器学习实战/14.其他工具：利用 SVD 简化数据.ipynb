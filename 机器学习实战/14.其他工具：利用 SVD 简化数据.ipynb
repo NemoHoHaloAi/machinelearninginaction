{
 "cells": [
  {
   "cell_type": "markdown",
   "metadata": {},
   "source": [
    "# SVD降维"
   ]
  },
  {
   "cell_type": "markdown",
   "metadata": {},
   "source": [
    "## SVD的应用\n",
    "\n",
    "* 优点：简化数据、去除噪声、提高算法性能；\n",
    "* 缺点：数据的转换难以直观理解；\n",
    "* 适用数据类型：数值型；\n",
    "\n",
    "利用SVD，我们使用小的数据集来表示原始数据集，这就去除了噪声，提取了数据信息以及相关特征；"
   ]
  },
  {
   "cell_type": "markdown",
   "metadata": {},
   "source": [
    "### 隐性语义索引\n",
    "\n",
    "通过对由文档和词语组成的矩阵应用SVD，我们可以构建多个奇异值，这些值就代表文档的概念或者主题，这在文档分类、索引等方面非常有用；"
   ]
  },
  {
   "cell_type": "markdown",
   "metadata": {},
   "source": [
    "### 推荐系统"
   ]
  }
 ],
 "metadata": {
  "kernelspec": {
   "display_name": "Python 2",
   "language": "python",
   "name": "python2"
  },
  "language_info": {
   "codemirror_mode": {
    "name": "ipython",
    "version": 2
   },
   "file_extension": ".py",
   "mimetype": "text/x-python",
   "name": "python",
   "nbconvert_exporter": "python",
   "pygments_lexer": "ipython2",
   "version": "2.7.13"
  },
  "toc": {
   "nav_menu": {},
   "number_sections": true,
   "sideBar": true,
   "skip_h1_title": false,
   "title_cell": "Table of Contents",
   "title_sidebar": "Contents",
   "toc_cell": false,
   "toc_position": {},
   "toc_section_display": true,
   "toc_window_display": false
  }
 },
 "nbformat": 4,
 "nbformat_minor": 2
}
